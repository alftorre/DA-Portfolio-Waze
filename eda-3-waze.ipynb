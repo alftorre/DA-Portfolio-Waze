{
 "cells": [
  {
   "attachments": {
    "1801c6d8-ea53-46ab-8176-4a5215ad7c1b.png": {
     "image/png": "[encoded data removed]"
    }
   },
   "cell_type": "markdown",
   "id": "1cb2fa6c",
   "metadata": {
    "id": "DtNBZFHO3M7n",
    "papermill": {
     "duration": 0.017884,
     "end_time": "2025-05-26T04:27:51.343671",
     "exception": false,
     "start_time": "2025-05-26T04:27:51.325787",
     "status": "completed"
    },
    "tags": []
   },
   "source": [
    "![DA_Header.png](attachment:1801c6d8-ea53-46ab-8176-4a5215ad7c1b.png)# \n",
    "\n",
    "**Waze Project**\n",
    "**Course 3 - Go Beyond the Numbers: Translate Data into Insights**"
   ]
  },
  {
   "cell_type": "markdown",
   "id": "7c1a2db6",
   "metadata": {
    "id": "g-E8SNtmRUkN",
    "papermill": {
     "duration": 0.016469,
     "end_time": "2025-05-26T04:27:51.376789",
     "exception": false,
     "start_time": "2025-05-26T04:27:51.360320",
     "status": "completed"
    },
    "tags": []
   },
   "source": [
    "Your team is still in the early stages of their user churn project. So far, you’ve completed a project proposal and used Python to inspect and organize Waze’s user data.\n",
    "\n",
    "You check your inbox and notice a new message from Chidi Ga, your team’s Senior Data Analyst. Chidi is pleased with the work you have already completed and requests your assistance with exploratory data analysis (EDA) and further data visualization. Harriet Hadzic, Waze's Director of Data Analysis, will want to review a Python notebook that shows your data exploration and visualization.\n",
    "\n",
    "A notebook was structured and prepared to help you in this project. Please complete the following questions and prepare an executive summary."
   ]
  },
  {
   "cell_type": "markdown",
   "id": "3527aeb7",
   "metadata": {
    "id": "rgSbVJvomcVa",
    "papermill": {
     "duration": 0.016417,
     "end_time": "2025-05-26T04:27:51.409405",
     "exception": false,
     "start_time": "2025-05-26T04:27:51.392988",
     "status": "completed"
    },
    "tags": []
   },
   "source": [
    "# **Course 3 End-of-course project: Exploratory data analysis**\n",
    "\n",
    "In this activity, you will examine data provided and prepare it for analysis.\n",
    "<br/>\n",
    "\n",
    "**The purpose** of this project is to conduct exploratory data analysis (EDA) on a provided dataset.\n",
    "\n",
    "**The goal** is to continue the examination of the data that you began in the previous Course, adding relevant visualizations that help communicate the story that the data tells.\n",
    "<br/>\n",
    "\n",
    "\n",
    "*This activity has 4 parts:*\n",
    "\n",
    "**Part 1:** Imports, links, and loading\n",
    "\n",
    "**Part 2:** Data Exploration\n",
    "*   Data cleaning\n",
    "\n",
    "\n",
    "**Part 3:** Building visualizations\n",
    "\n",
    "**Part 4:** Evaluating and sharing results\n",
    "\n",
    "<br/>\n",
    "\n",
    "\n",
    "Follow the instructions and answer the question below to complete the activity. Then, you will complete an executive summary using the questions listed on the [PACE Strategy Document ](https://docs.google.com/document/d/1iSHdbfQR6w8RClJNWai8oJXn9tQmYoTKn6QohuaK4-s/template/preview?resourcekey=0-ZIHnbxL1dd2u9A47iEVXvg).\n",
    "\n",
    "Be sure to complete this activity before moving on. The next course item will provide you with a completed exemplar to compare to your own work."
   ]
  },
  {
   "cell_type": "markdown",
   "id": "92fea9bd",
   "metadata": {
    "id": "9D43bTW0zOlX",
    "papermill": {
     "duration": 0.015731,
     "end_time": "2025-05-26T04:27:51.441427",
     "exception": false,
     "start_time": "2025-05-26T04:27:51.425696",
     "status": "completed"
    },
    "tags": []
   },
   "source": [
    "# **Visualize a story in Python**"
   ]
  },
  {
   "cell_type": "markdown",
   "id": "af3545a9",
   "metadata": {
    "id": "rdR5eWbYx8GE",
    "papermill": {
     "duration": 0.015786,
     "end_time": "2025-05-26T04:27:51.473310",
     "exception": false,
     "start_time": "2025-05-26T04:27:51.457524",
     "status": "completed"
    },
    "tags": []
   },
   "source": [
    "<img src=\"images/Pace.png\" width=\"100\" height=\"100\" align=left>\n",
    "\n",
    "# **PACE stages**\n"
   ]
  },
  {
   "cell_type": "markdown",
   "id": "66427d1a",
   "metadata": {
    "id": "diPme_MzeshF",
    "papermill": {
     "duration": 0.015865,
     "end_time": "2025-05-26T04:27:51.507073",
     "exception": false,
     "start_time": "2025-05-26T04:27:51.491208",
     "status": "completed"
    },
    "tags": []
   },
   "source": [
    "Throughout these project notebooks, you'll see references to the problem-solving framework PACE. The following notebook components are labeled with the respective PACE stage: Plan, Analyze, Construct, and Execute."
   ]
  },
  {
   "cell_type": "markdown",
   "id": "93a5a0b8",
   "metadata": {
    "id": "xKLZJUqMx8GE",
    "papermill": {
     "duration": 0.015639,
     "end_time": "2025-05-26T04:27:51.538666",
     "exception": false,
     "start_time": "2025-05-26T04:27:51.523027",
     "status": "completed"
    },
    "tags": []
   },
   "source": [
    "<img src=\"images/Plan.png\" width=\"100\" height=\"100\" align=left>\n",
    "\n",
    "\n",
    "## **PACE: Plan**\n",
    "\n",
    "Consider the questions in your PACE Strategy Document to reflect on the Plan stage.\n",
    "\n"
   ]
  },
  {
   "cell_type": "markdown",
   "id": "c62fd7f8",
   "metadata": {
    "id": "SKur6gTPRcvy",
    "papermill": {
     "duration": 0.015697,
     "end_time": "2025-05-26T04:27:51.570901",
     "exception": false,
     "start_time": "2025-05-26T04:27:51.555204",
     "status": "completed"
    },
    "tags": []
   },
   "source": [
    "### **Task 1. Imports and data loading**\n",
    "\n",
    "For EDA of the data, import the data and packages that will be most helpful, such as pandas, numpy, and matplotlib.\n",
    "\n",
    "\n"
   ]
  },
  {
   "cell_type": "code",
   "execution_count": 1,
   "id": "832d7d60",
   "metadata": {
    "execution": {
     "iopub.execute_input": "2025-05-26T04:27:51.659752Z",
     "iopub.status.busy": "2025-05-26T04:27:51.659327Z",
     "iopub.status.idle": "2025-05-26T04:27:55.753235Z",
     "shell.execute_reply": "2025-05-26T04:27:55.752220Z"
    },
    "id": "EO8vKZI8x8GF",
    "papermill": {
     "duration": 4.112956,
     "end_time": "2025-05-26T04:27:55.755135",
     "exception": false,
     "start_time": "2025-05-26T04:27:51.642179",
     "status": "completed"
    },
    "tags": []
   },
   "outputs": [],
   "source": [
    "# Import packages for data manipulation\n",
    "import pandas as pd\n",
    "import numpy as np\n",
    "import datetime as dt\n",
    " \n",
    "# Import packages for data visualization\n",
    "import matplotlib.pyplot as plt\n",
    "import seaborn as sns "
   ]
  },
  {
   "cell_type": "markdown",
   "id": "1fdf3d6b",
   "metadata": {
    "id": "Rf1WWIBW48QC",
    "papermill": {
     "duration": 0.015725,
     "end_time": "2025-05-26T04:27:55.787869",
     "exception": false,
     "start_time": "2025-05-26T04:27:55.772144",
     "status": "completed"
    },
    "tags": []
   },
   "source": [
    "Read in the data and store it as a dataframe object called df.\n",
    "\n",
    "**Note:** As shown in this cell, the dataset has been automatically loaded in for you. You do not need to download the .csv file, or provide more code, in order to access the dataset and proceed with this lab. Please continue with this activity by completing the following instructions."
   ]
  },
  {
   "cell_type": "code",
   "execution_count": 2,
   "id": "b129262c",
   "metadata": {
    "execution": {
     "iopub.execute_input": "2025-05-26T04:27:55.821645Z",
     "iopub.status.busy": "2025-05-26T04:27:55.821147Z",
     "iopub.status.idle": "2025-05-26T04:27:55.888830Z",
     "shell.execute_reply": "2025-05-26T04:27:55.887657Z"
    },
    "id": "w7XSDxoqyF9D",
    "papermill": {
     "duration": 0.08682,
     "end_time": "2025-05-26T04:27:55.890800",
     "exception": false,
     "start_time": "2025-05-26T04:27:55.803980",
     "status": "completed"
    },
    "scrolled": true,
    "tags": []
   },
   "outputs": [],
   "source": [
    "# Load the dataset into a dataframe\n",
    "df = pd.read_csv('/kaggle/input/wazedataset/waze_dataset.csv')"
   ]
  },
  {
   "cell_type": "markdown",
   "id": "34a8d7a3",
   "metadata": {
    "id": "3mipEiyZx8GI",
    "papermill": {
     "duration": 0.017281,
     "end_time": "2025-05-26T04:27:55.925153",
     "exception": false,
     "start_time": "2025-05-26T04:27:55.907872",
     "status": "completed"
    },
    "tags": []
   },
   "source": [
    "<img src=\"images/Analyze.png\" width=\"100\" height=\"100\" align=left>\n",
    "\n",
    "## **PACE: Analyze**\n",
    "\n",
    "Consider the questions in your PACE Strategy Document and those below where applicable to complete your code:\n",
    "1. Does the data need to be restructured or converted into usable formats?\n",
    "\n",
    "2. Are there any variables that have missing data?\n"
   ]
  },
  {
   "cell_type": "markdown",
   "id": "a8a80f1c",
   "metadata": {
    "id": "VZiH_pEMNm_M",
    "papermill": {
     "duration": 0.015865,
     "end_time": "2025-05-26T04:27:55.956965",
     "exception": false,
     "start_time": "2025-05-26T04:27:55.941100",
     "status": "completed"
    },
    "tags": []
   },
   "source": [
    "**Answers:**\n",
    "\n",
    "1. The data is already in a structured format. Each row represents a user.\n",
    "\n",
    "2. Yes, 700 rows have `label` missing. Other variables have no missing values."
   ]
  },
  {
   "cell_type": "markdown",
   "id": "c44270ec",
   "metadata": {
    "id": "n09krlKWRw_2",
    "papermill": {
     "duration": 0.015902,
     "end_time": "2025-05-26T04:27:55.988892",
     "exception": false,
     "start_time": "2025-05-26T04:27:55.972990",
     "status": "completed"
    },
    "tags": []
   },
   "source": [
    "### **Task 2. Data exploration and cleaning**\n",
    "\n",
    "Consider the following questions:\n",
    "\n",
    "\n",
    "\n",
    "1.  Given the scenario, which data columns are most applicable?\n",
    "\n",
    "2.  Which data columns can you eliminate, knowing they won’t solve your problem scenario?\n",
    "\n",
    "3.  How would you check for missing data? And how would you handle missing data (if any)?\n",
    "\n",
    "4.  How would you check for outliers? And how would handle outliers (if any)?\n",
    "\n",
    "\n",
    "\n",
    "\n",
    "\n"
   ]
  },
  {
   "cell_type": "markdown",
   "id": "522bcdd4",
   "metadata": {
    "id": "WQDcGzfANuSe",
    "papermill": {
     "duration": 0.015811,
     "end_time": "2025-05-26T04:27:56.021377",
     "exception": false,
     "start_time": "2025-05-26T04:27:56.005566",
     "status": "completed"
    },
    "tags": []
   },
   "source": [
    "**Answers:**\n",
    "\n",
    "1. Since we are interested in user churn, the `label` column is essential. Besides `label`, variables that tie to user behaviors will be the most applicable. All variables tie to user behavior except `ID`.\n",
    "\n",
    "2. `ID` can be dropped from the analysis since we are not interested in identifying a particular user. `ID` does not provide meaningful information about the churn (unless `ID` is assigned based on user sign-up time).\n",
    "\n",
    "3. To check for missing data, we can use `df.info()` and inspect the `Non-Null Count` column. The difference between the number of non-nulls and the number of rows in the data is the number of missing values for the variable.\n",
    "\n",
    "   If the missing data are missing completely at random (MCAR), meaning that the reason for missingness is independent of the data values themselves, we can proceed with a complete-case analysis by removing the rows with missing values. Otherwise, we need to investigate the root cause of the missingness and make sure it won't interfere with the statistical inference and modeling.\n",
    "\n",
    "4.  it's good practice to get a sense of just how many of your data points could be considered outliers. The definition of an outlier can change based on the details of your project, and it helps to have domain expertise to decide a threshold. You've learned that a common way to determine outliers in a normal distribution is to calculate the interquartile range (IQR) and set a threshold that is 1.5 * IQR above the 3rd quartile.\n",
    "\n",
    "Factors Influencing the Decision to Keep or Exclude outliers:\n",
    "\n",
    "Here's a framework to guide your decision:\n",
    "\n",
    "Reason for the Outlier:\n",
    "Data Entry or Measurement Errors: If you can confidently identify an outlier as a mistake, it should generally be corrected if possible, or removed if correction isn't feasible. Keeping such errors will definitely harm your model.\n",
    "Genuine Extreme Values: If the outlier represents a real, albeit unusual, observation, the decision is more complex.\n",
    "Impact on the Model:\n",
    "Sensitivity of the Algorithm: Some algorithms (e.g., linear regression, k-nearest neighbors) are highly sensitive to outliers, which can disproportionately influence the model's parameters and predictions. Tree-based models (e.g., decision trees, random forests, gradient boosting) are generally more robust to outliers.\n",
    "\n",
    "Model Goals: If your goal is to model typical behavior, including outliers might skew the results. If your goal is to detect anomalies, then outliers are the focus.\n",
    "Distribution of the Data:\n",
    "Normality: Outlier detection methods based on standard deviations (like Z-score) are most reliable for normally distributed data. For skewed data, IQR-based methods are often preferred.\n",
    "Domain Knowledge: Your understanding of the subject matter is crucial. What might seem like a statistical outlier could be a significant event in the real world.\n",
    "Number of Outliers:\n",
    "Small Number: Removing a few genuine outliers might not significantly impact the overall model, but be cautious about losing potentially valuable information.\n",
    "Large Number: If a large percentage of your data points are flagged as outliers, it might indicate an issue with the data collection process or the underlying distribution, rather than just extreme values. Removing a large chunk of data can lead to a loss of information and potentially bias the model.\n",
    "Potential for Information Loss: Removing outliers always means losing information. Consider if this lost information could be valuable for understanding the phenomenon you are modeling.\n",
    "Downstream Tasks: How will the model be used? For anomaly detection, outliers are the signal. For prediction of typical values, they might be noise.\n",
    "\n",
    "Possible Actions with Outliers:\n",
    "\n",
    "Instead of simply keeping or excluding, consider these alternatives:\n",
    "\n",
    "Correction/Imputation: If the outlier is due to an error and you can reliably determine the correct value, correct it. If it's missing data that appears as an outlier (e.g., a 0 where it shouldn't be), consider imputation techniques.\n",
    "Transformation: Applying transformations like logarithmic or power transformations can sometimes reduce the impact of outliers by compressing the range of extreme values.\n",
    "Binning/Categorization: Grouping extreme values into specific bins can reduce their influence while still retaining some information.\n",
    "Separate Modeling: If outliers represent a distinct phenomenon, you might consider building a separate model to understand them.\n",
    "Robust Algorithms: Choose modeling algorithms that are less sensitive to outliers.\n",
    "Decision-Making Process:\n",
    "\n",
    "Identify potential outliers using visual and statistical methods.\n",
    "Investigate the nature and source of each outlier.\n",
    "Determine if the outlier is due to an error. If so, correct or remove.\n",
    "Assess the potential impact of the outlier on the chosen modeling algorithm and the goals of the analysis.\n",
    "Consider the distribution of the data and the number of outliers.\n",
    "Evaluate alternative approaches like transformation, binning, or using robust algorithms.\n",
    "Document your decision-making process and the actions taken with outliers.\n",
    "In summary, the decision to keep or exclude outliers is a judgment call based on a thorough understanding of the data, the modeling objectives, and the characteristics of the chosen algorithms. Always prioritize understanding why an outlier exists before deciding on a course of action."
   ]
  },
  {
   "cell_type": "markdown",
   "id": "f7e07091",
   "metadata": {
    "id": "uk6zuv_mUU2k",
    "papermill": {
     "duration": 0.015851,
     "end_time": "2025-05-26T04:27:56.053168",
     "exception": false,
     "start_time": "2025-05-26T04:27:56.037317",
     "status": "completed"
    },
    "tags": []
   },
   "source": [
    "#### **Data overview and summary statistics**\n",
    "\n",
    "Use the following methods and attributes on the dataframe:\n",
    "\n",
    "* `head()`\n",
    "* `size`\n",
    "* `describe()`\n",
    "* `info()`\n",
    "\n",
    "It's always helpful to have this information at the beginning of a project, where you can always refer back to if needed."
   ]
  },
  {
   "cell_type": "code",
   "execution_count": 3,
   "id": "62c14967",
   "metadata": {
    "execution": {
     "iopub.execute_input": "2025-05-26T04:27:56.086693Z",
     "iopub.status.busy": "2025-05-26T04:27:56.086348Z",
     "iopub.status.idle": "2025-05-26T04:27:56.116361Z",
     "shell.execute_reply": "2025-05-26T04:27:56.115485Z"
    },
    "id": "cBOUo5p-tbib",
    "papermill": {
     "duration": 0.048823,
     "end_time": "2025-05-26T04:27:56.118001",
     "exception": false,
     "start_time": "2025-05-26T04:27:56.069178",
     "status": "completed"
    },
    "tags": []
   },
   "outputs": [
    {
     "data": {
      "text/html": [
       "<div>\n",
       "<style scoped>\n",
       "    .dataframe tbody tr th:only-of-type {\n",
       "        vertical-align: middle;\n",
       "    }\n",
       "\n",
       "    .dataframe tbody tr th {\n",
       "        vertical-align: top;\n",
       "    }\n",
       "\n",
       "    .dataframe thead th {\n",
       "        text-align: right;\n",
       "    }\n",
       "</style>\n",
       "<table border=\"1\" class=\"dataframe\">\n",
       "  <thead>\n",
       "    <tr style=\"text-align: right;\">\n",
       "      <th></th>\n",
       "      <th>ID</th>\n",
       "      <th>label</th>\n",
       "      <th>sessions</th>\n",
       "      <th>drives</th>\n",
       "      <th>total_sessions</th>\n",
       "      <th>n_days_after_onboarding</th>\n",
       "      <th>total_navigations_fav1</th>\n",
       "      <th>total_navigations_fav2</th>\n",
       "      <th>driven_km_drives</th>\n",
       "      <th>duration_minutes_drives</th>\n",
       "      <th>activity_days</th>\n",
       "      <th>driving_days</th>\n",
       "      <th>device</th>\n",
       "    </tr>\n",
       "  </thead>\n",
       "  <tbody>\n",
       "    <tr>\n",
       "      <th>0</th>\n",
       "      <td>0</td>\n",
       "      <td>retained</td>\n",
       "      <td>283</td>\n",
       "      <td>226</td>\n",
       "      <td>296.748273</td>\n",
       "      <td>2276</td>\n",
       "      <td>208</td>\n",
       "      <td>0</td>\n",
       "      <td>2628.845068</td>\n",
       "      <td>1985.775061</td>\n",
       "      <td>28</td>\n",
       "      <td>19</td>\n",
       "      <td>Android</td>\n",
       "    </tr>\n",
       "    <tr>\n",
       "      <th>1</th>\n",
       "      <td>1</td>\n",
       "      <td>retained</td>\n",
       "      <td>133</td>\n",
       "      <td>107</td>\n",
       "      <td>326.896596</td>\n",
       "      <td>1225</td>\n",
       "      <td>19</td>\n",
       "      <td>64</td>\n",
       "      <td>13715.920550</td>\n",
       "      <td>3160.472914</td>\n",
       "      <td>13</td>\n",
       "      <td>11</td>\n",
       "      <td>iPhone</td>\n",
       "    </tr>\n",
       "    <tr>\n",
       "      <th>2</th>\n",
       "      <td>2</td>\n",
       "      <td>retained</td>\n",
       "      <td>114</td>\n",
       "      <td>95</td>\n",
       "      <td>135.522926</td>\n",
       "      <td>2651</td>\n",
       "      <td>0</td>\n",
       "      <td>0</td>\n",
       "      <td>3059.148818</td>\n",
       "      <td>1610.735904</td>\n",
       "      <td>14</td>\n",
       "      <td>8</td>\n",
       "      <td>Android</td>\n",
       "    </tr>\n",
       "    <tr>\n",
       "      <th>3</th>\n",
       "      <td>3</td>\n",
       "      <td>retained</td>\n",
       "      <td>49</td>\n",
       "      <td>40</td>\n",
       "      <td>67.589221</td>\n",
       "      <td>15</td>\n",
       "      <td>322</td>\n",
       "      <td>7</td>\n",
       "      <td>913.591123</td>\n",
       "      <td>587.196542</td>\n",
       "      <td>7</td>\n",
       "      <td>3</td>\n",
       "      <td>iPhone</td>\n",
       "    </tr>\n",
       "    <tr>\n",
       "      <th>4</th>\n",
       "      <td>4</td>\n",
       "      <td>retained</td>\n",
       "      <td>84</td>\n",
       "      <td>68</td>\n",
       "      <td>168.247020</td>\n",
       "      <td>1562</td>\n",
       "      <td>166</td>\n",
       "      <td>5</td>\n",
       "      <td>3950.202008</td>\n",
       "      <td>1219.555924</td>\n",
       "      <td>27</td>\n",
       "      <td>18</td>\n",
       "      <td>Android</td>\n",
       "    </tr>\n",
       "  </tbody>\n",
       "</table>\n",
       "</div>"
      ],
      "text/plain": [
       "   ID     label  sessions  drives  total_sessions  n_days_after_onboarding  \\\n",
       "0   0  retained       283     226      296.748273                     2276   \n",
       "1   1  retained       133     107      326.896596                     1225   \n",
       "2   2  retained       114      95      135.522926                     2651   \n",
       "3   3  retained        49      40       67.589221                       15   \n",
       "4   4  retained        84      68      168.247020                     1562   \n",
       "\n",
       "   total_navigations_fav1  total_navigations_fav2  driven_km_drives  \\\n",
       "0                     208                       0       2628.845068   \n",
       "1                      19                      64      13715.920550   \n",
       "2                       0                       0       3059.148818   \n",
       "3                     322                       7        913.591123   \n",
       "4                     166                       5       3950.202008   \n",
       "\n",
       "   duration_minutes_drives  activity_days  driving_days   device  \n",
       "0              1985.775061             28            19  Android  \n",
       "1              3160.472914             13            11   iPhone  \n",
       "2              1610.735904             14             8  Android  \n",
       "3               587.196542              7             3   iPhone  \n",
       "4              1219.555924             27            18  Android  "
      ]
     },
     "execution_count": 3,
     "metadata": {},
     "output_type": "execute_result"
    }
   ],
   "source": [
    "### YOUR CODE HERE ###\n",
    "df.head()"
   ]
  },
  {
   "cell_type": "code",
   "execution_count": 4,
   "id": "daa1908a",
   "metadata": {
    "execution": {
     "iopub.execute_input": "2025-05-26T04:27:56.153147Z",
     "iopub.status.busy": "2025-05-26T04:27:56.152756Z",
     "iopub.status.idle": "2025-05-26T04:27:56.158931Z",
     "shell.execute_reply": "2025-05-26T04:27:56.158045Z"
    },
    "id": "S3tza5fNfIMo",
    "papermill": {
     "duration": 0.025664,
     "end_time": "2025-05-26T04:27:56.160411",
     "exception": false,
     "start_time": "2025-05-26T04:27:56.134747",
     "status": "completed"
    },
    "tags": []
   },
   "outputs": [
    {
     "data": {
      "text/plain": [
       "194987"
      ]
     },
     "execution_count": 4,
     "metadata": {},
     "output_type": "execute_result"
    }
   ],
   "source": [
    "### YOUR CODE HERE ###\n",
    "df.size "
   ]
  },
  {
   "cell_type": "markdown",
   "id": "6cf350d9",
   "metadata": {
    "id": "WulP4lZ9UVgy",
    "papermill": {
     "duration": 0.016171,
     "end_time": "2025-05-26T04:27:56.193876",
     "exception": false,
     "start_time": "2025-05-26T04:27:56.177705",
     "status": "completed"
    },
    "tags": []
   },
   "source": [
    "Generate summary statistics using the `describe()` method."
   ]
  },
  {
   "cell_type": "code",
   "execution_count": 5,
   "id": "a1e50909",
   "metadata": {
    "execution": {
     "iopub.execute_input": "2025-05-26T04:27:56.228409Z",
     "iopub.status.busy": "2025-05-26T04:27:56.228079Z",
     "iopub.status.idle": "2025-05-26T04:27:56.276569Z",
     "shell.execute_reply": "2025-05-26T04:27:56.275352Z"
    },
    "id": "fhPkaaqDR99b",
    "papermill": {
     "duration": 0.068067,
     "end_time": "2025-05-26T04:27:56.278575",
     "exception": false,
     "start_time": "2025-05-26T04:27:56.210508",
     "status": "completed"
    },
    "tags": []
   },
   "outputs": [
    {
     "data": {
      "text/html": [
       "<div>\n",
       "<style scoped>\n",
       "    .dataframe tbody tr th:only-of-type {\n",
       "        vertical-align: middle;\n",
       "    }\n",
       "\n",
       "    .dataframe tbody tr th {\n",
       "        vertical-align: top;\n",
       "    }\n",
       "\n",
       "    .dataframe thead th {\n",
       "        text-align: right;\n",
       "    }\n",
       "</style>\n",
       "<table border=\"1\" class=\"dataframe\">\n",
       "  <thead>\n",
       "    <tr style=\"text-align: right;\">\n",
       "      <th></th>\n",
       "      <th>ID</th>\n",
       "      <th>sessions</th>\n",
       "      <th>drives</th>\n",
       "      <th>total_sessions</th>\n",
       "      <th>n_days_after_onboarding</th>\n",
       "      <th>total_navigations_fav1</th>\n",
       "      <th>total_navigations_fav2</th>\n",
       "      <th>driven_km_drives</th>\n",
       "      <th>duration_minutes_drives</th>\n",
       "      <th>activity_days</th>\n",
       "      <th>driving_days</th>\n",
       "    </tr>\n",
       "  </thead>\n",
       "  <tbody>\n",
       "    <tr>\n",
       "      <th>count</th>\n",
       "      <td>14999.000000</td>\n",
       "      <td>14999.000000</td>\n",
       "      <td>14999.000000</td>\n",
       "      <td>14999.000000</td>\n",
       "      <td>14999.000000</td>\n",
       "      <td>14999.000000</td>\n",
       "      <td>14999.000000</td>\n",
       "      <td>14999.000000</td>\n",
       "      <td>14999.000000</td>\n",
       "      <td>14999.000000</td>\n",
       "      <td>14999.000000</td>\n",
       "    </tr>\n",
       "    <tr>\n",
       "      <th>mean</th>\n",
       "      <td>7499.000000</td>\n",
       "      <td>80.633776</td>\n",
       "      <td>67.281152</td>\n",
       "      <td>189.964447</td>\n",
       "      <td>1749.837789</td>\n",
       "      <td>121.605974</td>\n",
       "      <td>29.672512</td>\n",
       "      <td>4039.340921</td>\n",
       "      <td>1860.976012</td>\n",
       "      <td>15.537102</td>\n",
       "      <td>12.179879</td>\n",
       "    </tr>\n",
       "    <tr>\n",
       "      <th>std</th>\n",
       "      <td>4329.982679</td>\n",
       "      <td>80.699065</td>\n",
       "      <td>65.913872</td>\n",
       "      <td>136.405128</td>\n",
       "      <td>1008.513876</td>\n",
       "      <td>148.121544</td>\n",
       "      <td>45.394651</td>\n",
       "      <td>2502.149334</td>\n",
       "      <td>1446.702288</td>\n",
       "      <td>9.004655</td>\n",
       "      <td>7.824036</td>\n",
       "    </tr>\n",
       "    <tr>\n",
       "      <th>min</th>\n",
       "      <td>0.000000</td>\n",
       "      <td>0.000000</td>\n",
       "      <td>0.000000</td>\n",
       "      <td>0.220211</td>\n",
       "      <td>4.000000</td>\n",
       "      <td>0.000000</td>\n",
       "      <td>0.000000</td>\n",
       "      <td>60.441250</td>\n",
       "      <td>18.282082</td>\n",
       "      <td>0.000000</td>\n",
       "      <td>0.000000</td>\n",
       "    </tr>\n",
       "    <tr>\n",
       "      <th>25%</th>\n",
       "      <td>3749.500000</td>\n",
       "      <td>23.000000</td>\n",
       "      <td>20.000000</td>\n",
       "      <td>90.661156</td>\n",
       "      <td>878.000000</td>\n",
       "      <td>9.000000</td>\n",
       "      <td>0.000000</td>\n",
       "      <td>2212.600607</td>\n",
       "      <td>835.996260</td>\n",
       "      <td>8.000000</td>\n",
       "      <td>5.000000</td>\n",
       "    </tr>\n",
       "    <tr>\n",
       "      <th>50%</th>\n",
       "      <td>7499.000000</td>\n",
       "      <td>56.000000</td>\n",
       "      <td>48.000000</td>\n",
       "      <td>159.568115</td>\n",
       "      <td>1741.000000</td>\n",
       "      <td>71.000000</td>\n",
       "      <td>9.000000</td>\n",
       "      <td>3493.858085</td>\n",
       "      <td>1478.249859</td>\n",
       "      <td>16.000000</td>\n",
       "      <td>12.000000</td>\n",
       "    </tr>\n",
       "    <tr>\n",
       "      <th>75%</th>\n",
       "      <td>11248.500000</td>\n",
       "      <td>112.000000</td>\n",
       "      <td>93.000000</td>\n",
       "      <td>254.192341</td>\n",
       "      <td>2623.500000</td>\n",
       "      <td>178.000000</td>\n",
       "      <td>43.000000</td>\n",
       "      <td>5289.861262</td>\n",
       "      <td>2464.362632</td>\n",
       "      <td>23.000000</td>\n",
       "      <td>19.000000</td>\n",
       "    </tr>\n",
       "    <tr>\n",
       "      <th>max</th>\n",
       "      <td>14998.000000</td>\n",
       "      <td>743.000000</td>\n",
       "      <td>596.000000</td>\n",
       "      <td>1216.154633</td>\n",
       "      <td>3500.000000</td>\n",
       "      <td>1236.000000</td>\n",
       "      <td>415.000000</td>\n",
       "      <td>21183.401890</td>\n",
       "      <td>15851.727160</td>\n",
       "      <td>31.000000</td>\n",
       "      <td>30.000000</td>\n",
       "    </tr>\n",
       "  </tbody>\n",
       "</table>\n",
       "</div>"
      ],
      "text/plain": [
       "                 ID      sessions        drives  total_sessions  \\\n",
       "count  14999.000000  14999.000000  14999.000000    14999.000000   \n",
       "mean    7499.000000     80.633776     67.281152      189.964447   \n",
       "std     4329.982679     80.699065     65.913872      136.405128   \n",
       "min        0.000000      0.000000      0.000000        0.220211   \n",
       "25%     3749.500000     23.000000     20.000000       90.661156   \n",
       "50%     7499.000000     56.000000     48.000000      159.568115   \n",
       "75%    11248.500000    112.000000     93.000000      254.192341   \n",
       "max    14998.000000    743.000000    596.000000     1216.154633   \n",
       "\n",
       "       n_days_after_onboarding  total_navigations_fav1  \\\n",
       "count             14999.000000            14999.000000   \n",
       "mean               1749.837789              121.605974   \n",
       "std                1008.513876              148.121544   \n",
       "min                   4.000000                0.000000   \n",
       "25%                 878.000000                9.000000   \n",
       "50%                1741.000000               71.000000   \n",
       "75%                2623.500000              178.000000   \n",
       "max                3500.000000             1236.000000   \n",
       "\n",
       "       total_navigations_fav2  driven_km_drives  duration_minutes_drives  \\\n",
       "count            14999.000000      14999.000000             14999.000000   \n",
       "mean                29.672512       4039.340921              1860.976012   \n",
       "std                 45.394651       2502.149334              1446.702288   \n",
       "min                  0.000000         60.441250                18.282082   \n",
       "25%                  0.000000       2212.600607               835.996260   \n",
       "50%                  9.000000       3493.858085              1478.249859   \n",
       "75%                 43.000000       5289.861262              2464.362632   \n",
       "max                415.000000      21183.401890             15851.727160   \n",
       "\n",
       "       activity_days  driving_days  \n",
       "count   14999.000000  14999.000000  \n",
       "mean       15.537102     12.179879  \n",
       "std         9.004655      7.824036  \n",
       "min         0.000000      0.000000  \n",
       "25%         8.000000      5.000000  \n",
       "50%        16.000000     12.000000  \n",
       "75%        23.000000     19.000000  \n",
       "max        31.000000     30.000000  "
      ]
     },
     "execution_count": 5,
     "metadata": {},
     "output_type": "execute_result"
    }
   ],
   "source": [
    "### YOUR CODE HERE ###\n",
    "df.describe()"
   ]
  },
  {
   "cell_type": "markdown",
   "id": "f2ecbaeb",
   "metadata": {
    "id": "psmn0VD0UWBk",
    "papermill": {
     "duration": 0.017125,
     "end_time": "2025-05-26T04:27:56.312961",
     "exception": false,
     "start_time": "2025-05-26T04:27:56.295836",
     "status": "completed"
    },
    "tags": []
   },
   "source": [
    "And summary information using the `info()` method."
   ]
  },
  {
   "cell_type": "code",
   "execution_count": 6,
   "id": "827aece4",
   "metadata": {
    "execution": {
     "iopub.execute_input": "2025-05-26T04:27:56.349773Z",
     "iopub.status.busy": "2025-05-26T04:27:56.349393Z",
     "iopub.status.idle": "2025-05-26T04:27:56.375604Z",
     "shell.execute_reply": "2025-05-26T04:27:56.374263Z"
    },
    "id": "Thlb8oiyUPwe",
    "papermill": {
     "duration": 0.046467,
     "end_time": "2025-05-26T04:27:56.377196",
     "exception": false,
     "start_time": "2025-05-26T04:27:56.330729",
     "status": "completed"
    },
    "tags": []
   },
   "outputs": [
    {
     "name": "stdout",
     "output_type": "stream",
     "text": [
      "<class 'pandas.core.frame.DataFrame'>\n",
      "RangeIndex: 14999 entries, 0 to 14998\n",
      "Data columns (total 13 columns):\n",
      " #   Column                   Non-Null Count  Dtype  \n",
      "---  ------                   --------------  -----  \n",
      " 0   ID                       14999 non-null  int64  \n",
      " 1   label                    14299 non-null  object \n",
      " 2   sessions                 14999 non-null  int64  \n",
      " 3   drives                   14999 non-null  int64  \n",
      " 4   total_sessions           14999 non-null  float64\n",
      " 5   n_days_after_onboarding  14999 non-null  int64  \n",
      " 6   total_navigations_fav1   14999 non-null  int64  \n",
      " 7   total_navigations_fav2   14999 non-null  int64  \n",
      " 8   driven_km_drives         14999 non-null  float64\n",
      " 9   duration_minutes_drives  14999 non-null  float64\n",
      " 10  activity_days            14999 non-null  int64  \n",
      " 11  driving_days             14999 non-null  int64  \n",
      " 12  device                   14999 non-null  object \n",
      "dtypes: float64(3), int64(8), object(2)\n",
      "memory usage: 1.5+ MB\n"
     ]
    }
   ],
   "source": [
    "### YOUR CODE HERE ###\n",
    "df.info()"
   ]
  },
  {
   "cell_type": "markdown",
   "id": "45b649b8",
   "metadata": {
    "id": "f0sHpfkhx8GM",
    "papermill": {
     "duration": 0.016643,
     "end_time": "2025-05-26T04:27:56.410923",
     "exception": false,
     "start_time": "2025-05-26T04:27:56.394280",
     "status": "completed"
    },
    "tags": []
   },
   "source": [
    "<img src=\"images/Construct.png\" width=\"100\" height=\"100\" align=left>\n",
    "\n",
    "## **PACE: Construct**\n",
    "\n",
    "Consider the questions in your PACE Strategy Document to reflect on the Construct stage."
   ]
  },
  {
   "cell_type": "markdown",
   "id": "b29ea7a4",
   "metadata": {
    "id": "zXjMMPoARVPm",
    "papermill": {
     "duration": 0.017716,
     "end_time": "2025-05-26T04:27:56.446723",
     "exception": false,
     "start_time": "2025-05-26T04:27:56.429007",
     "status": "completed"
    },
    "tags": []
   },
   "source": [
    "Consider the following questions as you prepare to deal with outliers:\n",
    "\n",
    "1.   What are some ways to identify outliers?\n",
    "2.   How do you make the decision to keep or exclude outliers from any future models?"
   ]
  },
  {
   "cell_type": "markdown",
   "id": "06c68fe1",
   "metadata": {
    "id": "AHln5I2ERjAn",
    "papermill": {
     "duration": 0.016663,
     "end_time": "2025-05-26T04:27:56.480397",
     "exception": false,
     "start_time": "2025-05-26T04:27:56.463734",
     "status": "completed"
    },
    "tags": []
   },
   "source": []
  },
  {
   "cell_type": "markdown",
   "id": "2be86050",
   "metadata": {
    "id": "BYWkZ4i3wgv4",
    "papermill": {
     "duration": 0.016763,
     "end_time": "2025-05-26T04:27:56.514230",
     "exception": false,
     "start_time": "2025-05-26T04:27:56.497467",
     "status": "completed"
    },
    "tags": []
   },
   "source": [
    "### **Task 3a. Visualizations**\n",
    "\n",
    "Select data visualization types that will help you understand and explain the data.\n",
    "\n",
    "Now that you know which data columns you’ll use, it is time to decide which data visualization makes the most sense for EDA of the Waze dataset.\n",
    "\n",
    "**Question:** What type of data visualization(s) will be most helpful?\n",
    "\n",
    "* Line graph\n",
    "* Bar chart\n",
    "* Box plot\n",
    "* Histogram\n",
    "* Heat map\n",
    "* Scatter plot\n",
    "* A geographic map\n",
    "\n"
   ]
  },
  {
   "cell_type": "markdown",
   "id": "fe1d32c5",
   "metadata": {
    "id": "rYYgT9kMQiNF",
    "papermill": {
     "duration": 0.017072,
     "end_time": "2025-05-26T04:27:56.548197",
     "exception": false,
     "start_time": "2025-05-26T04:27:56.531125",
     "status": "completed"
    },
    "tags": []
   },
   "source": [
    "Answer:\n",
    "\n",
    "Box plots will be helpful to determine outliers and where the bulk of the data points reside in terms of drives, sessions and all other continuous numeric variables\n",
    "\n",
    "\n",
    "Histograms are essential to understand the distribution of variables\n",
    "\n",
    "\n",
    "Scatter plots will be helpful to visualize relationships between variables\n",
    "\n",
    "\n",
    "Bar charts are useful for communicating levels and quantities, especially for categorical information"
   ]
  },
  {
   "cell_type": "markdown",
   "id": "872c5484",
   "metadata": {
    "id": "TuWr3WWPQsi0",
    "papermill": {
     "duration": 0.017153,
     "end_time": "2025-05-26T04:27:56.582321",
     "exception": false,
     "start_time": "2025-05-26T04:27:56.565168",
     "status": "completed"
    },
    "tags": []
   },
   "source": [
    "Begin by examining the spread and distribution of important variables using box plots and histograms."
   ]
  },
  {
   "cell_type": "markdown",
   "id": "a4820247",
   "metadata": {
    "id": "5-vBw2wpSn0g",
    "papermill": {
     "duration": 0.017075,
     "end_time": "2025-05-26T04:27:56.616783",
     "exception": false,
     "start_time": "2025-05-26T04:27:56.599708",
     "status": "completed"
    },
    "tags": []
   },
   "source": [
    "#### **`sessions`**\n",
    "\n",
    "_The number of occurrence of a user opening the app during the month_"
   ]
  },
  {
   "cell_type": "code",
   "execution_count": 7,
   "id": "e70bac94",
   "metadata": {
    "execution": {
     "iopub.execute_input": "2025-05-26T04:27:56.652399Z",
     "iopub.status.busy": "2025-05-26T04:27:56.652029Z",
     "iopub.status.idle": "2025-05-26T04:27:56.890955Z",
     "shell.execute_reply": "2025-05-26T04:27:56.889944Z"
    },
    "id": "9K6Alb7uc9my",
    "papermill": {
     "duration": 0.258594,
     "end_time": "2025-05-26T04:27:56.892562",
     "exception": false,
     "start_time": "2025-05-26T04:27:56.633968",
     "status": "completed"
    },
    "tags": []
   },
   "outputs": [
    {
     "data": {
      "image/png": "[encoded data removed]",
      "text/plain": [
       "<Figure size 1000x300 with 1 Axes>"
      ]
     },
     "metadata": {},
     "output_type": "display_data"
    }
   ],
   "source": [
    "# Box plot\n",
    "plt.figure(figsize=(10,3))\n",
    "plt.title('sessions box plot - number of occurrence of a user opening the app during the month')\n",
    "sns.boxplot(x=df['sessions'], fliersize=1);\n",
    "\n"
   ]
  },
  {
   "cell_type": "code",
   "execution_count": 8,
   "id": "5a0f725f",
   "metadata": {
    "execution": {
     "iopub.execute_input": "2025-05-26T04:27:56.929284Z",
     "iopub.status.busy": "2025-05-26T04:27:56.928917Z",
     "iopub.status.idle": "2025-05-26T04:27:57.499963Z",
     "shell.execute_reply": "2025-05-26T04:27:57.499018Z"
    },
    "id": "1YC9xCrrcvw-",
    "papermill": {
     "duration": 0.591484,
     "end_time": "2025-05-26T04:27:57.501943",
     "exception": false,
     "start_time": "2025-05-26T04:27:56.910459",
     "status": "completed"
    },
    "tags": []
   },
   "outputs": [
    {
     "name": "stderr",
     "output_type": "stream",
     "text": [
      "/usr/local/lib/python3.11/dist-packages/seaborn/_oldcore.py:1119: FutureWarning: use_inf_as_na option is deprecated and will be removed in a future version. Convert inf values to NaN before operating instead.\n",
      "  with pd.option_context('mode.use_inf_as_na', True):\n"
     ]
    },
    {
     "data": {
      "image/png": "[encoded data removed]",
      "text/plain": [
       "<Figure size 1000x500 with 1 Axes>"
      ]
     },
     "metadata": {},
     "output_type": "display_data"
    }
   ],
   "source": [
    "# Histogram\n",
    "plt.figure(figsize=(10,5))\n",
    "sns.histplot(df['sessions'], bins=range(0,1000,5))\n",
    "median = df['sessions'].median()\n",
    "plt.axvline(median, color='red', linestyle='--')\n",
    "plt.text(75,800, 'median=56.0', color='red')\n",
    "\n",
    "plt.title('sessions box plot - number of occurrence of a user opening the app during the month');\n"
   ]
  },
  {
   "cell_type": "markdown",
   "id": "d3db1013",
   "metadata": {
    "id": "PKnZDIgDS2gV",
    "papermill": {
     "duration": 0.017608,
     "end_time": "2025-05-26T04:27:57.537888",
     "exception": false,
     "start_time": "2025-05-26T04:27:57.520280",
     "status": "completed"
    },
    "tags": []
   },
   "source": [
    "The `sessions` variable is a right-skewed distribution with half of the observations having 56 or fewer sessions. However, as indicated by the boxplot, some users have more than 700."
   ]
  },
  {
   "cell_type": "markdown",
   "id": "25e42f2a",
   "metadata": {
    "id": "VSBCTrrjdpnn",
    "papermill": {
     "duration": 0.017871,
     "end_time": "2025-05-26T04:27:57.573851",
     "exception": false,
     "start_time": "2025-05-26T04:27:57.555980",
     "status": "completed"
    },
    "tags": []
   },
   "source": [
    "#### **`drives`**\n",
    "\n",
    "_An occurrence of driving at least 1 km during the month_"
   ]
  },
  {
   "cell_type": "code",
   "execution_count": 9,
   "id": "c9ad6bc3",
   "metadata": {
    "execution": {
     "iopub.execute_input": "2025-05-26T04:27:57.611065Z",
     "iopub.status.busy": "2025-05-26T04:27:57.610716Z",
     "iopub.status.idle": "2025-05-26T04:27:57.756969Z",
     "shell.execute_reply": "2025-05-26T04:27:57.755942Z"
    },
    "id": "WKEGh-a3yF9K",
    "papermill": {
     "duration": 0.166729,
     "end_time": "2025-05-26T04:27:57.758480",
     "exception": false,
     "start_time": "2025-05-26T04:27:57.591751",
     "status": "completed"
    },
    "tags": []
   },
   "outputs": [
    {
     "data": {
      "image/png": "[encoded data removed]",
      "text/plain": [
       "<Figure size 1000x300 with 1 Axes>"
      ]
     },
     "metadata": {},
     "output_type": "display_data"
    }
   ],
   "source": [
    "# Box plot\n",
    "plt.figure(figsize=(10,3))\n",
    "plt.title('drives boxplot - An occurrence of driving at least 1 km during the month')\n",
    "sns.boxplot(x=df['drives'], fliersize=3);\n",
    "\n"
   ]
  },
  {
   "cell_type": "markdown",
   "id": "017a7253",
   "metadata": {
    "papermill": {
     "duration": 0.018764,
     "end_time": "2025-05-26T04:27:57.796692",
     "exception": false,
     "start_time": "2025-05-26T04:27:57.777928",
     "status": "completed"
    },
    "tags": []
   },
   "source": [
    "As you perform EDA, you'll find that many tasks get repeated, such as plotting histograms of features. Remember that whenever you find yourself copy/pasting code, it's worth considering whether a function would help make your work more efficient. Sometimes it's not worth it. Other times, defining a function will help a lot.\n",
    "\n",
    "The following code block defines a function that helps plot histograms with a particular style/format using this particular dataset. You don't have to do this, but in this case it's helpful."
   ]
  },
  {
   "cell_type": "code",
   "execution_count": 10,
   "id": "8b62fae9",
   "metadata": {
    "execution": {
     "iopub.execute_input": "2025-05-26T04:27:57.835938Z",
     "iopub.status.busy": "2025-05-26T04:27:57.835620Z",
     "iopub.status.idle": "2025-05-26T04:27:57.842402Z",
     "shell.execute_reply": "2025-05-26T04:27:57.841489Z"
    },
    "papermill": {
     "duration": 0.028557,
     "end_time": "2025-05-26T04:27:57.844150",
     "exception": false,
     "start_time": "2025-05-26T04:27:57.815593",
     "status": "completed"
    },
    "tags": []
   },
   "outputs": [],
   "source": [
    "# Helper function to plot histograms based on the\n",
    "# format of the `sessions` histogram\n",
    "def histogrammer(column_str, median_text=True, **kwargs):    # **kwargs = any keyword arguments\n",
    "                                                             # from the sns.histplot() function\n",
    "    median=round(df[column_str].median(), 1)\n",
    "    plt.figure(figsize=(5,3))\n",
    "    ax = sns.histplot(x=df[column_str], **kwargs)            # Plot the histogram\n",
    "    plt.axvline(median, color='red', linestyle='--')         # Plot the median line\n",
    "    if median_text==True:                                    # Add median text unless set to False\n",
    "        ax.text(0.25, 0.85, f'median={median}', color='red',\n",
    "            ha='left', va='top', transform=ax.transAxes)\n",
    "    else:\n",
    "        print('Median:', median)\n",
    "    plt.title(f'{column_str} histogram');"
   ]
  },
  {
   "cell_type": "code",
   "execution_count": 11,
   "id": "dcf9a49f",
   "metadata": {
    "execution": {
     "iopub.execute_input": "2025-05-26T04:27:57.884211Z",
     "iopub.status.busy": "2025-05-26T04:27:57.883924Z",
     "iopub.status.idle": "2025-05-26T04:27:58.241828Z",
     "shell.execute_reply": "2025-05-26T04:27:58.240778Z"
    },
    "papermill": {
     "duration": 0.380378,
     "end_time": "2025-05-26T04:27:58.243705",
     "exception": false,
     "start_time": "2025-05-26T04:27:57.863327",
     "status": "completed"
    },
    "tags": []
   },
   "outputs": [
    {
     "name": "stderr",
     "output_type": "stream",
     "text": [
      "/usr/local/lib/python3.11/dist-packages/seaborn/_oldcore.py:1119: FutureWarning: use_inf_as_na option is deprecated and will be removed in a future version. Convert inf values to NaN before operating instead.\n",
      "  with pd.option_context('mode.use_inf_as_na', True):\n"
     ]
    },
    {
     "data": {
      "image/png": "[encoded data removed]",
      "text/plain": [
       "<Figure size 500x300 with 1 Axes>"
      ]
     },
     "metadata": {},
     "output_type": "display_data"
    }
   ],
   "source": [
    "# Histogram\n",
    "histogrammer('drives')"
   ]
  },
  {
   "cell_type": "markdown",
   "id": "155d22f8",
   "metadata": {
    "id": "SVhzvyNCedL8",
    "papermill": {
     "duration": 0.020133,
     "end_time": "2025-05-26T04:27:58.284520",
     "exception": false,
     "start_time": "2025-05-26T04:27:58.264387",
     "status": "completed"
    },
    "tags": []
   },
   "source": [
    "The `drives` information follows a distribution similar to the `sessions` variable. It is right-skewed, approximately log-normal, with a median of 48. However, some drivers had over 400 drives in the last month."
   ]
  },
  {
   "cell_type": "markdown",
   "id": "661bc6dc",
   "metadata": {
    "id": "M-RvjOHhehOI",
    "papermill": {
     "duration": 0.018885,
     "end_time": "2025-05-26T04:27:58.322648",
     "exception": false,
     "start_time": "2025-05-26T04:27:58.303763",
     "status": "completed"
    },
    "tags": []
   },
   "source": [
    "#### **`total_sessions`**\n",
    "\n",
    "_A model estimate of the total number of sessions since a user has onboarded_"
   ]
  },
  {
   "cell_type": "code",
   "execution_count": 12,
   "id": "234a8efe",
   "metadata": {
    "execution": {
     "iopub.execute_input": "2025-05-26T04:27:58.362932Z",
     "iopub.status.busy": "2025-05-26T04:27:58.362634Z",
     "iopub.status.idle": "2025-05-26T04:27:58.513669Z",
     "shell.execute_reply": "2025-05-26T04:27:58.512619Z"
    },
    "id": "ZCC9MHhOQ7Sc",
    "papermill": {
     "duration": 0.17304,
     "end_time": "2025-05-26T04:27:58.515138",
     "exception": false,
     "start_time": "2025-05-26T04:27:58.342098",
     "status": "completed"
    },
    "tags": []
   },
   "outputs": [
    {
     "data": {
      "image/png": "[encoded data removed]",
      "text/plain": [
       "<Figure size 1000x300 with 1 Axes>"
      ]
     },
     "metadata": {},
     "output_type": "display_data"
    }
   ],
   "source": [
    "# Box plot\n",
    "plt.figure(figsize=(10,3))\n",
    "plt.title('total_sessions box plot - A model estimate of the total number of sessions since a user has onboarded')\n",
    "sns.boxplot(x=df['total_sessions'], fliersize=3);\n",
    "\n"
   ]
  },
  {
   "cell_type": "code",
   "execution_count": 13,
   "id": "db74636b",
   "metadata": {
    "execution": {
     "iopub.execute_input": "2025-05-26T04:27:58.556761Z",
     "iopub.status.busy": "2025-05-26T04:27:58.556407Z",
     "iopub.status.idle": "2025-05-26T04:27:58.889619Z",
     "shell.execute_reply": "2025-05-26T04:27:58.888695Z"
    },
    "id": "p5-UmoBzdrTW",
    "papermill": {
     "duration": 0.355663,
     "end_time": "2025-05-26T04:27:58.891182",
     "exception": false,
     "start_time": "2025-05-26T04:27:58.535519",
     "status": "completed"
    },
    "tags": []
   },
   "outputs": [
    {
     "name": "stderr",
     "output_type": "stream",
     "text": [
      "/usr/local/lib/python3.11/dist-packages/seaborn/_oldcore.py:1119: FutureWarning: use_inf_as_na option is deprecated and will be removed in a future version. Convert inf values to NaN before operating instead.\n",
      "  with pd.option_context('mode.use_inf_as_na', True):\n"
     ]
    },
    {
     "data": {
      "image/png": "[encoded data removed]",
      "text/plain": [
       "<Figure size 500x300 with 1 Axes>"
      ]
     },
     "metadata": {},
     "output_type": "display_data"
    }
   ],
   "source": [
    "# Histogram\n",
    "histogrammer('total_sessions')"
   ]
  },
  {
   "cell_type": "markdown",
   "id": "98412f01",
   "metadata": {
    "id": "3i77iZf_etQd",
    "papermill": {
     "duration": 0.020005,
     "end_time": "2025-05-26T04:27:58.931544",
     "exception": false,
     "start_time": "2025-05-26T04:27:58.911539",
     "status": "completed"
    },
    "tags": []
   },
   "source": [
    "The `total_sessions` is a right-skewed distribution. The median total number of sessions is 159.6. This is interesting information because, if the median number of sessions in the last month was 48 and the median total sessions was ~160, then it seems that a large proportion of a user's total drives might have taken place in the last month. This is something you can examine more closely later."
   ]
  },
  {
   "cell_type": "markdown",
   "id": "58aea607",
   "metadata": {
    "id": "0sfXzD_eexBm",
    "papermill": {
     "duration": 0.01977,
     "end_time": "2025-05-26T04:27:58.971379",
     "exception": false,
     "start_time": "2025-05-26T04:27:58.951609",
     "status": "completed"
    },
    "tags": []
   },
   "source": [
    "#### **`n_days_after_onboarding`**\n",
    "\n",
    "_The number of days since a user signed up for the app_"
   ]
  },
  {
   "cell_type": "code",
   "execution_count": 14,
   "id": "4429e710",
   "metadata": {
    "execution": {
     "iopub.execute_input": "2025-05-26T04:27:59.013961Z",
     "iopub.status.busy": "2025-05-26T04:27:59.013621Z",
     "iopub.status.idle": "2025-05-26T04:27:59.168186Z",
     "shell.execute_reply": "2025-05-26T04:27:59.167209Z"
    },
    "id": "PGfs6rpEdq-R",
    "papermill": {
     "duration": 0.178725,
     "end_time": "2025-05-26T04:27:59.170306",
     "exception": false,
     "start_time": "2025-05-26T04:27:58.991581",
     "status": "completed"
    },
    "tags": []
   },
   "outputs": [
    {
     "data": {
      "image/png": "[encoded data removed]",
      "text/plain": [
       "<Figure size 1000x300 with 1 Axes>"
      ]
     },
     "metadata": {},
     "output_type": "display_data"
    }
   ],
   "source": [
    "# Box plot\n",
    "plt.figure(figsize=(10,3))\n",
    "plt.title('n_days_after_onboarding box plot - The number of days since a user signed up for the app')\n",
    "sns.boxplot(x=df['n_days_after_onboarding'], fliersize=3);\n"
   ]
  },
  {
   "cell_type": "code",
   "execution_count": 15,
   "id": "889ed689",
   "metadata": {
    "execution": {
     "iopub.execute_input": "2025-05-26T04:27:59.212898Z",
     "iopub.status.busy": "2025-05-26T04:27:59.212564Z",
     "iopub.status.idle": "2025-05-26T04:27:59.487332Z",
     "shell.execute_reply": "2025-05-26T04:27:59.486143Z"
    },
    "id": "oqzA9IxRdqr1",
    "papermill": {
     "duration": 0.298092,
     "end_time": "2025-05-26T04:27:59.489094",
     "exception": false,
     "start_time": "2025-05-26T04:27:59.191002",
     "status": "completed"
    },
    "tags": []
   },
   "outputs": [
    {
     "name": "stderr",
     "output_type": "stream",
     "text": [
      "/usr/local/lib/python3.11/dist-packages/seaborn/_oldcore.py:1119: FutureWarning: use_inf_as_na option is deprecated and will be removed in a future version. Convert inf values to NaN before operating instead.\n",
      "  with pd.option_context('mode.use_inf_as_na', True):\n"
     ]
    },
    {
     "name": "stdout",
     "output_type": "stream",
     "text": [
      "Median: 1741.0\n"
     ]
    },
    {
     "data": {
      "image/png": "[encoded data removed]",
      "text/plain": [
       "<Figure size 500x300 with 1 Axes>"
      ]
     },
     "metadata": {},
     "output_type": "display_data"
    }
   ],
   "source": [
    "# Histogram\n",
    "histogrammer('n_days_after_onboarding', median_text=False)"
   ]
  },
  {
   "cell_type": "markdown",
   "id": "1f44f2d1",
   "metadata": {
    "id": "wFNDAX4_e6aT",
    "papermill": {
     "duration": 0.021279,
     "end_time": "2025-05-26T04:27:59.533352",
     "exception": false,
     "start_time": "2025-05-26T04:27:59.512073",
     "status": "completed"
    },
    "tags": []
   },
   "source": [
    "The total user tenure (i.e., number of days since\n",
    "onboarding) is a uniform distribution with values ranging from near-zero to \\~3,500 (\\~9.5 years)."
   ]
  },
  {
   "cell_type": "markdown",
   "id": "c47b1682",
   "metadata": {
    "id": "x1QO1Id8e7Oj",
    "papermill": {
     "duration": 0.021944,
     "end_time": "2025-05-26T04:27:59.577157",
     "exception": false,
     "start_time": "2025-05-26T04:27:59.555213",
     "status": "completed"
    },
    "tags": []
   },
   "source": [
    "#### **`driven_km_drives`**\n",
    "\n",
    "_Total kilometers driven during the month_"
   ]
  },
  {
   "cell_type": "code",
   "execution_count": 16,
   "id": "aae07975",
   "metadata": {
    "execution": {
     "iopub.execute_input": "2025-05-26T04:27:59.621615Z",
     "iopub.status.busy": "2025-05-26T04:27:59.620850Z",
     "iopub.status.idle": "2025-05-26T04:27:59.760069Z",
     "shell.execute_reply": "2025-05-26T04:27:59.759048Z"
    },
    "id": "JytUB830dv61",
    "papermill": {
     "duration": 0.163458,
     "end_time": "2025-05-26T04:27:59.761859",
     "exception": false,
     "start_time": "2025-05-26T04:27:59.598401",
     "status": "completed"
    },
    "tags": []
   },
   "outputs": [
    {
     "data": {
      "image/png": "[encoded data removed]",
      "text/plain": [
       "<Figure size 1000x300 with 1 Axes>"
      ]
     },
     "metadata": {},
     "output_type": "display_data"
    }
   ],
   "source": [
    "# Box plot\n",
    "plt.figure(figsize=(10,3))\n",
    "plt.title('driven_km_drives box plot - Total kilometers driven during the month')\n",
    "sns.boxplot(x=df['driven_km_drives'], fliersize=3);"
   ]
  },
  {
   "cell_type": "code",
   "execution_count": 17,
   "id": "09eb3c51",
   "metadata": {
    "execution": {
     "iopub.execute_input": "2025-05-26T04:27:59.808960Z",
     "iopub.status.busy": "2025-05-26T04:27:59.807981Z",
     "iopub.status.idle": "2025-05-26T04:28:00.128727Z",
     "shell.execute_reply": "2025-05-26T04:28:00.127659Z"
    },
    "id": "X3tD7KmhfBz8",
    "papermill": {
     "duration": 0.346844,
     "end_time": "2025-05-26T04:28:00.130699",
     "exception": false,
     "start_time": "2025-05-26T04:27:59.783855",
     "status": "completed"
    },
    "tags": []
   },
   "outputs": [
    {
     "name": "stderr",
     "output_type": "stream",
     "text": [
      "/usr/local/lib/python3.11/dist-packages/seaborn/_oldcore.py:1119: FutureWarning: use_inf_as_na option is deprecated and will be removed in a future version. Convert inf values to NaN before operating instead.\n",
      "  with pd.option_context('mode.use_inf_as_na', True):\n"
     ]
    },
    {
     "data": {
      "image/png": "[encoded data removed]",
      "text/plain": [
       "<Figure size 500x300 with 1 Axes>"
      ]
     },
     "metadata": {},
     "output_type": "display_data"
    }
   ],
   "source": [
    "# Histogram\n",
    "histogrammer('driven_km_drives')"
   ]
  },
  {
   "cell_type": "markdown",
   "id": "0fa36a2b",
   "metadata": {
    "id": "qmj8rhs1fFsD",
    "papermill": {
     "duration": 0.022109,
     "end_time": "2025-05-26T04:28:00.175825",
     "exception": false,
     "start_time": "2025-05-26T04:28:00.153716",
     "status": "completed"
    },
    "tags": []
   },
   "source": [
    "The number of drives driven in the last month per user is a right-skewed distribution with half the users driving under 3,495 kilometers. As you discovered in the analysis from the previous course, the users in this dataset drive _a lot_. The longest distance driven in the month was over half the circumferene of the earth."
   ]
  },
  {
   "cell_type": "markdown",
   "id": "d1c612eb",
   "metadata": {
    "id": "UUAqCCtTfGbJ",
    "papermill": {
     "duration": 0.021822,
     "end_time": "2025-05-26T04:28:00.220021",
     "exception": false,
     "start_time": "2025-05-26T04:28:00.198199",
     "status": "completed"
    },
    "tags": []
   },
   "source": [
    "#### **`duration_minutes_drives`**\n",
    "\n",
    "_Total duration driven in minutes during the month_"
   ]
  },
  {
   "cell_type": "code",
   "execution_count": 18,
   "id": "22804c55",
   "metadata": {
    "execution": {
     "iopub.execute_input": "2025-05-26T04:28:00.265592Z",
     "iopub.status.busy": "2025-05-26T04:28:00.265234Z",
     "iopub.status.idle": "2025-05-26T04:28:00.431990Z",
     "shell.execute_reply": "2025-05-26T04:28:00.430960Z"
    },
    "id": "ElNBoyu9fG8z",
    "papermill": {
     "duration": 0.191488,
     "end_time": "2025-05-26T04:28:00.433580",
     "exception": false,
     "start_time": "2025-05-26T04:28:00.242092",
     "status": "completed"
    },
    "tags": []
   },
   "outputs": [
    {
     "data": {
      "image/png": "[encoded data removed]",
      "text/plain": [
       "<Figure size 1000x300 with 1 Axes>"
      ]
     },
     "metadata": {},
     "output_type": "display_data"
    }
   ],
   "source": [
    "# Box plot\n",
    "plt.figure(figsize=(10,3))\n",
    "plt.title('duration_minutes_drives box plot - Total duration driven in minutes during the month')\n",
    "sns.boxplot(x=df['duration_minutes_drives'], fliersize=3);"
   ]
  },
  {
   "cell_type": "code",
   "execution_count": 19,
   "id": "a147429e",
   "metadata": {
    "execution": {
     "iopub.execute_input": "2025-05-26T04:28:00.480625Z",
     "iopub.status.busy": "2025-05-26T04:28:00.480261Z",
     "iopub.status.idle": "2025-05-26T04:28:00.865742Z",
     "shell.execute_reply": "2025-05-26T04:28:00.864507Z"
    },
    "id": "7z4ajJJFfHoN",
    "papermill": {
     "duration": 0.410734,
     "end_time": "2025-05-26T04:28:00.867361",
     "exception": false,
     "start_time": "2025-05-26T04:28:00.456627",
     "status": "completed"
    },
    "tags": []
   },
   "outputs": [
    {
     "name": "stderr",
     "output_type": "stream",
     "text": [
      "/usr/local/lib/python3.11/dist-packages/seaborn/_oldcore.py:1119: FutureWarning: use_inf_as_na option is deprecated and will be removed in a future version. Convert inf values to NaN before operating instead.\n",
      "  with pd.option_context('mode.use_inf_as_na', True):\n"
     ]
    },
    {
     "data": {
      "image/png": "[encoded data removed]",
      "text/plain": [
       "<Figure size 500x300 with 1 Axes>"
      ]
     },
     "metadata": {},
     "output_type": "display_data"
    }
   ],
   "source": [
    "# Histogram\n",
    "histogrammer('duration_minutes_drives')"
   ]
  },
  {
   "cell_type": "markdown",
   "id": "65221831",
   "metadata": {
    "id": "lXRWnXA5fcmn",
    "papermill": {
     "duration": 0.023883,
     "end_time": "2025-05-26T04:28:00.915576",
     "exception": false,
     "start_time": "2025-05-26T04:28:00.891693",
     "status": "completed"
    },
    "tags": []
   },
   "source": [
    "The `duration_minutes_drives` variable has a heavily skewed right tail. Half of the users drove less than \\~1,478 minutes (\\~25 hours), but some users clocked over 250 hours over the month."
   ]
  },
  {
   "cell_type": "markdown",
   "id": "f7a1c6b0",
   "metadata": {
    "id": "sJ-5zhujfcXb",
    "papermill": {
     "duration": 0.023141,
     "end_time": "2025-05-26T04:28:00.962243",
     "exception": false,
     "start_time": "2025-05-26T04:28:00.939102",
     "status": "completed"
    },
    "tags": []
   },
   "source": [
    "#### **`activity_days`**\n",
    "\n",
    "_Number of days the user opens the app during the month_"
   ]
  },
  {
   "cell_type": "code",
   "execution_count": 20,
   "id": "d205e3c5",
   "metadata": {
    "execution": {
     "iopub.execute_input": "2025-05-26T04:28:01.010291Z",
     "iopub.status.busy": "2025-05-26T04:28:01.009981Z",
     "iopub.status.idle": "2025-05-26T04:28:01.157080Z",
     "shell.execute_reply": "2025-05-26T04:28:01.156085Z"
    },
    "id": "rpy9NzemfkDz",
    "papermill": {
     "duration": 0.17289,
     "end_time": "2025-05-26T04:28:01.158585",
     "exception": false,
     "start_time": "2025-05-26T04:28:00.985695",
     "status": "completed"
    },
    "tags": []
   },
   "outputs": [
    {
     "data": {
      "image/png": "[encoded data removed]",
      "text/plain": [
       "<Figure size 1000x300 with 1 Axes>"
      ]
     },
     "metadata": {},
     "output_type": "display_data"
    }
   ],
   "source": [
    "# Box plot\n",
    "plt.figure(figsize=(10,3))\n",
    "plt.title('activity_days box plot - Number of days the user opens the app during the month')\n",
    "sns.boxplot(x=df['activity_days'], fliersize=3);"
   ]
  },
  {
   "cell_type": "code",
   "execution_count": 21,
   "id": "f18279b7",
   "metadata": {
    "execution": {
     "iopub.execute_input": "2025-05-26T04:28:01.207349Z",
     "iopub.status.busy": "2025-05-26T04:28:01.207000Z",
     "iopub.status.idle": "2025-05-26T04:28:01.471698Z",
     "shell.execute_reply": "2025-05-26T04:28:01.470900Z"
    },
    "id": "JTdGJbmffqNK",
    "papermill": {
     "duration": 0.290844,
     "end_time": "2025-05-26T04:28:01.473330",
     "exception": false,
     "start_time": "2025-05-26T04:28:01.182486",
     "status": "completed"
    },
    "tags": []
   },
   "outputs": [
    {
     "name": "stderr",
     "output_type": "stream",
     "text": [
      "/usr/local/lib/python3.11/dist-packages/seaborn/_oldcore.py:1119: FutureWarning: use_inf_as_na option is deprecated and will be removed in a future version. Convert inf values to NaN before operating instead.\n",
      "  with pd.option_context('mode.use_inf_as_na', True):\n"
     ]
    },
    {
     "name": "stdout",
     "output_type": "stream",
     "text": [
      "Median: 16.0\n"
     ]
    },
    {
     "data": {
      "image/png": "[encoded data removed]",
      "text/plain": [
       "<Figure size 500x300 with 1 Axes>"
      ]
     },
     "metadata": {},
     "output_type": "display_data"
    }
   ],
   "source": [
    "# Histogram\n",
    "histogrammer('activity_days', median_text=False, discrete=True)"
   ]
  },
  {
   "cell_type": "markdown",
   "id": "ef35164d",
   "metadata": {
    "id": "eRkkqv1xfrPN",
    "papermill": {
     "duration": 0.027185,
     "end_time": "2025-05-26T04:28:01.526417",
     "exception": false,
     "start_time": "2025-05-26T04:28:01.499232",
     "status": "completed"
    },
    "tags": []
   },
   "source": [
    "Within the last month, users opened the app a median of 16 times. The box plot reveals a centered distribution. The histogram shows a nearly uniform distribution of ~500 people opening the app on each count of days. However, there are ~250 people who didn't open the app at all and ~250 people who opened the app every day of the month.\n",
    "\n",
    "This distribution is noteworthy because it does not mirror the `sessions` distribution, which you might think would be closely correlated with `activity_days`."
   ]
  },
  {
   "cell_type": "markdown",
   "id": "1953d4bf",
   "metadata": {
    "id": "fbbqVbBFfrBP",
    "papermill": {
     "duration": 0.02472,
     "end_time": "2025-05-26T04:28:01.576328",
     "exception": false,
     "start_time": "2025-05-26T04:28:01.551608",
     "status": "completed"
    },
    "tags": []
   },
   "source": [
    "#### **`driving_days`**\n",
    "\n",
    "_Number of days the user drives (at least 1 km) during the month_"
   ]
  },
  {
   "cell_type": "code",
   "execution_count": 22,
   "id": "701a1eb3",
   "metadata": {
    "execution": {
     "iopub.execute_input": "2025-05-26T04:28:01.627294Z",
     "iopub.status.busy": "2025-05-26T04:28:01.626978Z",
     "iopub.status.idle": "2025-05-26T04:28:01.880773Z",
     "shell.execute_reply": "2025-05-26T04:28:01.879729Z"
    },
    "id": "hhn-402gf3ff",
    "papermill": {
     "duration": 0.280762,
     "end_time": "2025-05-26T04:28:01.882307",
     "exception": false,
     "start_time": "2025-05-26T04:28:01.601545",
     "status": "completed"
    },
    "tags": []
   },
   "outputs": [
    {
     "data": {
      "image/png": "[encoded data removed]",
      "text/plain": [
       "<Figure size 1000x300 with 1 Axes>"
      ]
     },
     "metadata": {},
     "output_type": "display_data"
    }
   ],
   "source": [
    "# Box plot\n",
    "plt.figure(figsize=(10,3))\n",
    "plt.title('driving_days box plot - Number of days the user drives (at least 1 km) during the month')\n",
    "sns.boxplot(x=df['driving_days'], fliersize=3);"
   ]
  },
  {
   "cell_type": "code",
   "execution_count": 23,
   "id": "a6b255c1",
   "metadata": {
    "execution": {
     "iopub.execute_input": "2025-05-26T04:28:01.934299Z",
     "iopub.status.busy": "2025-05-26T04:28:01.933988Z",
     "iopub.status.idle": "2025-05-26T04:28:02.186166Z",
     "shell.execute_reply": "2025-05-26T04:28:02.185152Z"
    },
    "id": "Yi9bkUS2f37N",
    "papermill": {
     "duration": 0.280129,
     "end_time": "2025-05-26T04:28:02.187750",
     "exception": false,
     "start_time": "2025-05-26T04:28:01.907621",
     "status": "completed"
    },
    "tags": []
   },
   "outputs": [
    {
     "name": "stderr",
     "output_type": "stream",
     "text": [
      "/usr/local/lib/python3.11/dist-packages/seaborn/_oldcore.py:1119: FutureWarning: use_inf_as_na option is deprecated and will be removed in a future version. Convert inf values to NaN before operating instead.\n",
      "  with pd.option_context('mode.use_inf_as_na', True):\n"
     ]
    },
    {
     "name": "stdout",
     "output_type": "stream",
     "text": [
      "Median: 12.0\n"
     ]
    },
    {
     "data": {
      "image/png": "[encoded data removed]",
      "text/plain": [
       "<Figure size 500x300 with 1 Axes>"
      ]
     },
     "metadata": {},
     "output_type": "display_data"
    }
   ],
   "source": [
    "# Histogram\n",
    "histogrammer('driving_days', median_text=False, discrete=True)"
   ]
  },
  {
   "cell_type": "markdown",
   "id": "4986935a",
   "metadata": {
    "id": "I2p_HuzRf4Xo",
    "papermill": {
     "duration": 0.02565,
     "end_time": "2025-05-26T04:28:02.239354",
     "exception": false,
     "start_time": "2025-05-26T04:28:02.213704",
     "status": "completed"
    },
    "tags": []
   },
   "source": [
    "The number of days users drove each month is almost uniform, and it largely correlates with the number of days they opened the app that month, except the `driving_days` distribution tails off on the right.\n",
    "\n",
    "However, there were almost twice as many users (\\~1,000 vs. \\~550) who did not drive at all during the month. This might seem counterintuitive when considered together with the information from `activity_days`. That variable had \\~500 users opening the app on each of most of the day counts, but there were only \\~250 users who did not open the app at all during the month and ~250 users who opened the app every day. Flag this for further investigation later."
   ]
  },
  {
   "cell_type": "markdown",
   "id": "57344084",
   "metadata": {
    "id": "-TmcckFcgDLK",
    "papermill": {
     "duration": 0.025065,
     "end_time": "2025-05-26T04:28:02.289782",
     "exception": false,
     "start_time": "2025-05-26T04:28:02.264717",
     "status": "completed"
    },
    "tags": []
   },
   "source": [
    "#### **`device`**\n",
    "\n",
    "_The type of device a user starts a session with_\n",
    "\n",
    "This is a categorical variable, so you do not plot a box plot for it. A good plot for a binary categorical variable is a pie chart."
   ]
  },
  {
   "cell_type": "code",
   "execution_count": 24,
   "id": "65691b45",
   "metadata": {
    "execution": {
     "iopub.execute_input": "2025-05-26T04:28:02.343941Z",
     "iopub.status.busy": "2025-05-26T04:28:02.343613Z",
     "iopub.status.idle": "2025-05-26T04:28:02.444756Z",
     "shell.execute_reply": "2025-05-26T04:28:02.443843Z"
    },
    "id": "evNrxWWQgDuN",
    "papermill": {
     "duration": 0.129057,
     "end_time": "2025-05-26T04:28:02.446284",
     "exception": false,
     "start_time": "2025-05-26T04:28:02.317227",
     "status": "completed"
    },
    "tags": []
   },
   "outputs": [
    {
     "data": {
      "image/png": "[encoded data removed]",
      "text/plain": [
       "<Figure size 300x300 with 1 Axes>"
      ]
     },
     "metadata": {},
     "output_type": "display_data"
    }
   ],
   "source": [
    "# Pie chart\n",
    "fig = plt.figure(figsize=(3,3))\n",
    "data=df['device'].value_counts()\n",
    "plt.pie(data,\n",
    "        labels=[f'{data.index[0]}: {data.values[0]}',\n",
    "                f'{data.index[1]}: {data.values[1]}'],\n",
    "        autopct='%1.1f%%'\n",
    "        )\n",
    "plt.title('Users by device');"
   ]
  },
  {
   "cell_type": "markdown",
   "id": "add8c7f1",
   "metadata": {
    "id": "m7NuKItJgEh2",
    "papermill": {
     "duration": 0.025438,
     "end_time": "2025-05-26T04:28:02.497554",
     "exception": false,
     "start_time": "2025-05-26T04:28:02.472116",
     "status": "completed"
    },
    "tags": []
   },
   "source": [
    "There are nearly twice as many iPhone users as Android users represented in this data."
   ]
  },
  {
   "cell_type": "markdown",
   "id": "afc01073",
   "metadata": {
    "id": "VJH5j71RgViQ",
    "papermill": {
     "duration": 0.026184,
     "end_time": "2025-05-26T04:28:02.549394",
     "exception": false,
     "start_time": "2025-05-26T04:28:02.523210",
     "status": "completed"
    },
    "tags": []
   },
   "source": [
    "#### **`label`**\n",
    "\n",
    "_Binary target variable (“retained” vs “churned”) for if a user has churned anytime during the course of the month_\n",
    "\n",
    "This is also a categorical variable, and as such would not be plotted as a box plot. Plot a pie chart instead."
   ]
  },
  {
   "cell_type": "code",
   "execution_count": 25,
   "id": "3ff4e370",
   "metadata": {
    "execution": {
     "iopub.execute_input": "2025-05-26T04:28:02.602407Z",
     "iopub.status.busy": "2025-05-26T04:28:02.602020Z",
     "iopub.status.idle": "2025-05-26T04:28:02.703415Z",
     "shell.execute_reply": "2025-05-26T04:28:02.702341Z"
    },
    "id": "MQ1nVQIBgWOv",
    "papermill": {
     "duration": 0.129734,
     "end_time": "2025-05-26T04:28:02.704958",
     "exception": false,
     "start_time": "2025-05-26T04:28:02.575224",
     "status": "completed"
    },
    "tags": []
   },
   "outputs": [
    {
     "data": {
      "image/png": "[encoded data removed]",
      "text/plain": [
       "<Figure size 300x300 with 1 Axes>"
      ]
     },
     "metadata": {},
     "output_type": "display_data"
    }
   ],
   "source": [
    "# Pie chart\n",
    "fig = plt.figure(figsize=(3,3))\n",
    "data=df['label'].value_counts()\n",
    "plt.pie(data,\n",
    "        labels=[f'{data.index[0]}: {data.values[0]}',\n",
    "                f'{data.index[1]}: {data.values[1]}'],\n",
    "        autopct='%1.1f%%'\n",
    "        )\n",
    "plt.title('Count of retained vs. churned');"
   ]
  },
  {
   "cell_type": "markdown",
   "id": "c5780f7c",
   "metadata": {
    "id": "cmM8NrSYghlg",
    "papermill": {
     "duration": 0.025473,
     "end_time": "2025-05-26T04:28:02.757107",
     "exception": false,
     "start_time": "2025-05-26T04:28:02.731634",
     "status": "completed"
    },
    "tags": []
   },
   "source": [
    "Less than 18% of the users churned."
   ]
  },
  {
   "cell_type": "markdown",
   "id": "1c2891c3",
   "metadata": {
    "id": "cRsY_TYPgik5",
    "papermill": {
     "duration": 0.025416,
     "end_time": "2025-05-26T04:28:02.808558",
     "exception": false,
     "start_time": "2025-05-26T04:28:02.783142",
     "status": "completed"
    },
    "tags": []
   },
   "source": [
    "#### **`driving_days` vs. `activity_days`**\n",
    "\n",
    "Because both `driving_days` and `activity_days` represent counts of days over a month and they're also closely related, you can plot them together on a single histogram. This will help to better understand how they relate to each other without having to scroll back and forth comparing histograms in two different places.\n",
    "\n",
    "Plot a histogram that, for each day, has a bar representing the counts of `driving_days` and `activity_days`."
   ]
  },
  {
   "cell_type": "code",
   "execution_count": 26,
   "id": "28770a79",
   "metadata": {
    "execution": {
     "iopub.execute_input": "2025-05-26T04:28:02.861304Z",
     "iopub.status.busy": "2025-05-26T04:28:02.860992Z",
     "iopub.status.idle": "2025-05-26T04:28:03.209195Z",
     "shell.execute_reply": "2025-05-26T04:28:03.208330Z"
    },
    "id": "Ly1sNysEgjFc",
    "papermill": {
     "duration": 0.376636,
     "end_time": "2025-05-26T04:28:03.210874",
     "exception": false,
     "start_time": "2025-05-26T04:28:02.834238",
     "status": "completed"
    },
    "tags": []
   },
   "outputs": [
    {
     "data": {
      "image/png": "[encoded data removed]",
      "text/plain": [
       "<Figure size 1200x400 with 1 Axes>"
      ]
     },
     "metadata": {},
     "output_type": "display_data"
    }
   ],
   "source": [
    "# Histogram\n",
    "plt.figure(figsize=(12,4))\n",
    "label=['driving days', 'activity days']\n",
    "plt.hist([df['driving_days'], df['activity_days']],\n",
    "         bins=range(0,33),\n",
    "         label=label)\n",
    "plt.xlabel('days')\n",
    "plt.ylabel('count')\n",
    "plt.legend()\n",
    "plt.title('driving_days vs. activity_days');"
   ]
  },
  {
   "cell_type": "markdown",
   "id": "5ef68d54",
   "metadata": {
    "id": "8kQS1OzIgzhF",
    "papermill": {
     "duration": 0.026698,
     "end_time": "2025-05-26T04:28:03.265397",
     "exception": false,
     "start_time": "2025-05-26T04:28:03.238699",
     "status": "completed"
    },
    "tags": []
   },
   "source": [
    "As observed previously, this might seem counterintuitive. After all, why are there _fewer_ people who didn't use the app at all during the month and _more_ people who didn't drive at all during the month?\n",
    "\n",
    "On the other hand, it could just be illustrative of the fact that, while these variables are related to each other, they're not the same. People probably just open the app more than they use the app to drive&mdash;perhaps to check drive times or route information, to update settings, or even just by mistake.\n",
    "\n",
    "Nonetheless, it might be worthwile to contact the data team at Waze to get more information about this, especially because it seems that the number of days in the month is not the same between variables.\n",
    "\n",
    "Confirm the maximum number of days for each variable&mdash;`driving_days` and `activity_days`."
   ]
  },
  {
   "cell_type": "code",
   "execution_count": 27,
   "id": "3cce701d",
   "metadata": {
    "execution": {
     "iopub.execute_input": "2025-05-26T04:28:03.322412Z",
     "iopub.status.busy": "2025-05-26T04:28:03.322088Z",
     "iopub.status.idle": "2025-05-26T04:28:03.328028Z",
     "shell.execute_reply": "2025-05-26T04:28:03.327099Z"
    },
    "id": "ZY266xXxg-rO",
    "papermill": {
     "duration": 0.037488,
     "end_time": "2025-05-26T04:28:03.329593",
     "exception": false,
     "start_time": "2025-05-26T04:28:03.292105",
     "status": "completed"
    },
    "tags": []
   },
   "outputs": [
    {
     "name": "stdout",
     "output_type": "stream",
     "text": [
      "30\n",
      "31\n"
     ]
    }
   ],
   "source": [
    "print(df['driving_days'].max())\n",
    "print(df['activity_days'].max())"
   ]
  },
  {
   "cell_type": "markdown",
   "id": "ea2263fc",
   "metadata": {
    "id": "oBEq9YwChEGx",
    "papermill": {
     "duration": 0.026105,
     "end_time": "2025-05-26T04:28:03.382413",
     "exception": false,
     "start_time": "2025-05-26T04:28:03.356308",
     "status": "completed"
    },
    "tags": []
   },
   "source": [
    "It's true. Although it's possible that not a single user drove all 31 days of the month, it's highly unlikely, considering there are 15,000 people represented in the dataset.\n",
    "\n",
    "One other way to check the validity of these variables is to plot a simple scatter plot with the x-axis representing one variable and the y-axis representing the other."
   ]
  },
  {
   "cell_type": "code",
   "execution_count": 28,
   "id": "729a566c",
   "metadata": {
    "execution": {
     "iopub.execute_input": "2025-05-26T04:28:03.436602Z",
     "iopub.status.busy": "2025-05-26T04:28:03.436256Z",
     "iopub.status.idle": "2025-05-26T04:28:03.726732Z",
     "shell.execute_reply": "2025-05-26T04:28:03.725800Z"
    },
    "id": "I4VMyxguhFBV",
    "papermill": {
     "duration": 0.319512,
     "end_time": "2025-05-26T04:28:03.728178",
     "exception": false,
     "start_time": "2025-05-26T04:28:03.408666",
     "status": "completed"
    },
    "tags": []
   },
   "outputs": [
    {
     "data": {
      "image/png": "[encoded data removed]",
      "text/plain": [
       "<Figure size 640x480 with 1 Axes>"
      ]
     },
     "metadata": {},
     "output_type": "display_data"
    }
   ],
   "source": [
    "# Scatter plot\n",
    "sns.scatterplot(data=df, x='driving_days', y='activity_days')\n",
    "plt.title('driving_days vs. activity_days')\n",
    "plt.plot([0,31], [0,31], color='red', linestyle='--');"
   ]
  },
  {
   "cell_type": "markdown",
   "id": "bda00aa7",
   "metadata": {
    "id": "DWO3ljhFhG-e",
    "papermill": {
     "duration": 0.02678,
     "end_time": "2025-05-26T04:28:03.782007",
     "exception": false,
     "start_time": "2025-05-26T04:28:03.755227",
     "status": "completed"
    },
    "tags": []
   },
   "source": [
    "Notice that there is a theoretical limit. If you use the app to drive, then by definition it must count as a day-use as well. In other words, you cannot have more drive-days than activity-days. None of the samples in this data violate this rule, which is good."
   ]
  },
  {
   "cell_type": "markdown",
   "id": "5d79e87b",
   "metadata": {
    "id": "bcZkCH5WhVfE",
    "papermill": {
     "duration": 0.026507,
     "end_time": "2025-05-26T04:28:03.835411",
     "exception": false,
     "start_time": "2025-05-26T04:28:03.808904",
     "status": "completed"
    },
    "tags": []
   },
   "source": [
    "#### **Retention by device**\n",
    "\n",
    "Plot a histogram that has four bars&mdash;one for each device-label combination&mdash;to show how many iPhone users were retained/churned and how many Android users were retained/churned."
   ]
  },
  {
   "cell_type": "code",
   "execution_count": 29,
   "id": "204e7402",
   "metadata": {
    "execution": {
     "iopub.execute_input": "2025-05-26T04:28:03.891868Z",
     "iopub.status.busy": "2025-05-26T04:28:03.891187Z",
     "iopub.status.idle": "2025-05-26T04:28:04.173399Z",
     "shell.execute_reply": "2025-05-26T04:28:04.172307Z"
    },
    "id": "75uHBjB1hZIl",
    "papermill": {
     "duration": 0.312168,
     "end_time": "2025-05-26T04:28:04.175015",
     "exception": false,
     "start_time": "2025-05-26T04:28:03.862847",
     "status": "completed"
    },
    "tags": []
   },
   "outputs": [
    {
     "name": "stderr",
     "output_type": "stream",
     "text": [
      "/usr/local/lib/python3.11/dist-packages/seaborn/_oldcore.py:1119: FutureWarning: use_inf_as_na option is deprecated and will be removed in a future version. Convert inf values to NaN before operating instead.\n",
      "  with pd.option_context('mode.use_inf_as_na', True):\n",
      "/usr/local/lib/python3.11/dist-packages/seaborn/_oldcore.py:1075: FutureWarning: When grouping with a length-1 list-like, you will need to pass a length-1 tuple to get_group in a future version of pandas. Pass `(name,)` instead of `name` to silence this warning.\n",
      "  data_subset = grouped_data.get_group(pd_key)\n",
      "/usr/local/lib/python3.11/dist-packages/seaborn/_oldcore.py:1075: FutureWarning: When grouping with a length-1 list-like, you will need to pass a length-1 tuple to get_group in a future version of pandas. Pass `(name,)` instead of `name` to silence this warning.\n",
      "  data_subset = grouped_data.get_group(pd_key)\n",
      "/usr/local/lib/python3.11/dist-packages/seaborn/_oldcore.py:1075: FutureWarning: When grouping with a length-1 list-like, you will need to pass a length-1 tuple to get_group in a future version of pandas. Pass `(name,)` instead of `name` to silence this warning.\n",
      "  data_subset = grouped_data.get_group(pd_key)\n",
      "/usr/local/lib/python3.11/dist-packages/seaborn/_oldcore.py:1075: FutureWarning: When grouping with a length-1 list-like, you will need to pass a length-1 tuple to get_group in a future version of pandas. Pass `(name,)` instead of `name` to silence this warning.\n",
      "  data_subset = grouped_data.get_group(pd_key)\n"
     ]
    },
    {
     "data": {
      "image/png": "[encoded data removed]",
      "text/plain": [
       "<Figure size 500x400 with 1 Axes>"
      ]
     },
     "metadata": {},
     "output_type": "display_data"
    }
   ],
   "source": [
    "# Histogram\n",
    "plt.figure(figsize=(5,4))\n",
    "sns.histplot(data=df,\n",
    "             x='device',\n",
    "             hue='label',\n",
    "             multiple='dodge',\n",
    "             shrink=0.9\n",
    "             )\n",
    "plt.title('Retention by device histogram');"
   ]
  },
  {
   "cell_type": "markdown",
   "id": "9aa835fa",
   "metadata": {
    "id": "sVOvIbG-hZg-",
    "papermill": {
     "duration": 0.028066,
     "end_time": "2025-05-26T04:28:04.232373",
     "exception": false,
     "start_time": "2025-05-26T04:28:04.204307",
     "status": "completed"
    },
    "tags": []
   },
   "source": [
    "The proportion of churned users to retained users is consistent between device types."
   ]
  },
  {
   "cell_type": "markdown",
   "id": "b2073077",
   "metadata": {
    "id": "TMYRLh8EhhuK",
    "papermill": {
     "duration": 0.029395,
     "end_time": "2025-05-26T04:28:04.297241",
     "exception": false,
     "start_time": "2025-05-26T04:28:04.267846",
     "status": "completed"
    },
    "tags": []
   },
   "source": [
    "#### **Retention by kilometers driven per driving day**\n",
    "\n",
    "In the previous course, you discovered that the median distance driven per driving day last month for users who churned was 697.54 km, versus 289.55 km for people who did not churn. Examine this further.\n",
    "\n",
    "1. Create a new column in `df` called `km_per_driving_day`, which represents the mean distance driven per driving day for each user.\n",
    "\n",
    "2. Call the `describe()` method on the new column."
   ]
  },
  {
   "cell_type": "code",
   "execution_count": 30,
   "id": "d7e91ad0",
   "metadata": {
    "execution": {
     "iopub.execute_input": "2025-05-26T04:28:04.358625Z",
     "iopub.status.busy": "2025-05-26T04:28:04.357897Z",
     "iopub.status.idle": "2025-05-26T04:28:04.380848Z",
     "shell.execute_reply": "2025-05-26T04:28:04.379868Z"
    },
    "id": "6IONTyaHhipo",
    "papermill": {
     "duration": 0.055567,
     "end_time": "2025-05-26T04:28:04.382655",
     "exception": false,
     "start_time": "2025-05-26T04:28:04.327088",
     "status": "completed"
    },
    "tags": []
   },
   "outputs": [
    {
     "name": "stderr",
     "output_type": "stream",
     "text": [
      "/usr/local/lib/python3.11/dist-packages/pandas/io/formats/format.py:1458: RuntimeWarning: invalid value encountered in greater\n",
      "  has_large_values = (abs_vals > 1e6).any()\n",
      "/usr/local/lib/python3.11/dist-packages/pandas/io/formats/format.py:1459: RuntimeWarning: invalid value encountered in less\n",
      "  has_small_values = ((abs_vals < 10 ** (-self.digits)) & (abs_vals > 0)).any()\n",
      "/usr/local/lib/python3.11/dist-packages/pandas/io/formats/format.py:1459: RuntimeWarning: invalid value encountered in greater\n",
      "  has_small_values = ((abs_vals < 10 ** (-self.digits)) & (abs_vals > 0)).any()\n"
     ]
    },
    {
     "data": {
      "text/plain": [
       "count    1.499900e+04\n",
       "mean              inf\n",
       "std               NaN\n",
       "min      3.022063e+00\n",
       "25%      1.672804e+02\n",
       "50%      3.231459e+02\n",
       "75%      7.579257e+02\n",
       "max               inf\n",
       "Name: km_per_driving_day, dtype: float64"
      ]
     },
     "execution_count": 30,
     "metadata": {},
     "output_type": "execute_result"
    }
   ],
   "source": [
    "# 1. Create `km_per_driving_day` column\n",
    "df['km_per_driving_day'] = df['driven_km_drives'] / df['driving_days']\n",
    "\n",
    "# 2. Call `describe()` on the new column\n",
    "df['km_per_driving_day'].describe()"
   ]
  },
  {
   "cell_type": "markdown",
   "id": "5cc1b10f",
   "metadata": {
    "papermill": {
     "duration": 0.036308,
     "end_time": "2025-05-26T04:28:04.460138",
     "exception": false,
     "start_time": "2025-05-26T04:28:04.423830",
     "status": "completed"
    },
    "tags": []
   },
   "source": [
    "What do you notice? The mean value is infinity, the standard deviation is NaN, and the max value is infinity. Why do you think this is?\n",
    "\n",
    "This is the result of there being values of zero in the `driving_days` column. Pandas imputes a value of infinity in the corresponding rows of the new column because division by zero is undefined.\n",
    "\n",
    "1. Convert these values from infinity to zero. You can use `np.inf` to refer to a value of infinity.\n",
    "\n",
    "2. Call `describe()` on the `km_per_driving_day` column to verify that it worked."
   ]
  },
  {
   "cell_type": "code",
   "execution_count": 31,
   "id": "7e58ce43",
   "metadata": {
    "execution": {
     "iopub.execute_input": "2025-05-26T04:28:04.518606Z",
     "iopub.status.busy": "2025-05-26T04:28:04.518210Z",
     "iopub.status.idle": "2025-05-26T04:28:04.530634Z",
     "shell.execute_reply": "2025-05-26T04:28:04.529529Z"
    },
    "papermill": {
     "duration": 0.043476,
     "end_time": "2025-05-26T04:28:04.532134",
     "exception": false,
     "start_time": "2025-05-26T04:28:04.488658",
     "status": "completed"
    },
    "tags": []
   },
   "outputs": [
    {
     "data": {
      "text/plain": [
       "count    14999.000000\n",
       "mean       578.963113\n",
       "std       1030.094384\n",
       "min          0.000000\n",
       "25%        136.238895\n",
       "50%        272.889272\n",
       "75%        558.686918\n",
       "max      15420.234110\n",
       "Name: km_per_driving_day, dtype: float64"
      ]
     },
     "execution_count": 31,
     "metadata": {},
     "output_type": "execute_result"
    }
   ],
   "source": [
    "# 1. Convert infinite values to zero\n",
    "df.loc[df['km_per_driving_day']==np.inf, 'km_per_driving_day'] = 0\n",
    "\n",
    "# 2. Confirm that it worked\n",
    "df['km_per_driving_day'].describe()"
   ]
  },
  {
   "cell_type": "markdown",
   "id": "86aa96b2",
   "metadata": {
    "id": "DVCP1F9thspa",
    "papermill": {
     "duration": 0.028019,
     "end_time": "2025-05-26T04:28:04.588135",
     "exception": false,
     "start_time": "2025-05-26T04:28:04.560116",
     "status": "completed"
    },
    "tags": []
   },
   "source": [
    "The maximum value is 15,420 kilometers _per drive day_. This is physically impossible. Driving 100 km/hour for 12 hours is 1,200 km. It's unlikely many people averaged more than this each day they drove, so, for now, disregard rows where the distance in this column is greater than 1,200 km.\n",
    "\n",
    "Plot a histogram of the new `km_per_driving_day` column, disregarding those users with values greater than 1,200 km. Each bar should be the same length and have two colors, one color representing the percent of the users in that bar that churned and the other representing the percent that were retained. This can be done by setting the `multiple` parameter of seaborn's [`histplot()`](https://seaborn.pydata.org/generated/seaborn.histplot.html) function to `fill`."
   ]
  },
  {
   "cell_type": "code",
   "execution_count": 32,
   "id": "e671bc54",
   "metadata": {
    "execution": {
     "iopub.execute_input": "2025-05-26T04:28:04.650022Z",
     "iopub.status.busy": "2025-05-26T04:28:04.649718Z",
     "iopub.status.idle": "2025-05-26T04:28:05.197878Z",
     "shell.execute_reply": "2025-05-26T04:28:05.196830Z"
    },
    "id": "8ntKu1bAhxhA",
    "papermill": {
     "duration": 0.582358,
     "end_time": "2025-05-26T04:28:05.199464",
     "exception": false,
     "start_time": "2025-05-26T04:28:04.617106",
     "status": "completed"
    },
    "tags": []
   },
   "outputs": [
    {
     "name": "stderr",
     "output_type": "stream",
     "text": [
      "/usr/local/lib/python3.11/dist-packages/seaborn/_oldcore.py:1119: FutureWarning: use_inf_as_na option is deprecated and will be removed in a future version. Convert inf values to NaN before operating instead.\n",
      "  with pd.option_context('mode.use_inf_as_na', True):\n",
      "/usr/local/lib/python3.11/dist-packages/seaborn/_oldcore.py:1075: FutureWarning: When grouping with a length-1 list-like, you will need to pass a length-1 tuple to get_group in a future version of pandas. Pass `(name,)` instead of `name` to silence this warning.\n",
      "  data_subset = grouped_data.get_group(pd_key)\n",
      "/usr/local/lib/python3.11/dist-packages/seaborn/_oldcore.py:1075: FutureWarning: When grouping with a length-1 list-like, you will need to pass a length-1 tuple to get_group in a future version of pandas. Pass `(name,)` instead of `name` to silence this warning.\n",
      "  data_subset = grouped_data.get_group(pd_key)\n",
      "/usr/local/lib/python3.11/dist-packages/seaborn/_oldcore.py:1075: FutureWarning: When grouping with a length-1 list-like, you will need to pass a length-1 tuple to get_group in a future version of pandas. Pass `(name,)` instead of `name` to silence this warning.\n",
      "  data_subset = grouped_data.get_group(pd_key)\n",
      "/usr/local/lib/python3.11/dist-packages/seaborn/_oldcore.py:1075: FutureWarning: When grouping with a length-1 list-like, you will need to pass a length-1 tuple to get_group in a future version of pandas. Pass `(name,)` instead of `name` to silence this warning.\n",
      "  data_subset = grouped_data.get_group(pd_key)\n"
     ]
    },
    {
     "data": {
      "image/png": "[encoded data removed]",
      "text/plain": [
       "<Figure size 1200x500 with 1 Axes>"
      ]
     },
     "metadata": {},
     "output_type": "display_data"
    }
   ],
   "source": [
    "# Histogram\n",
    "plt.figure(figsize=(12,5))\n",
    "sns.histplot(data=df,\n",
    "             x='km_per_driving_day',\n",
    "             bins=range(0,1201,20),\n",
    "             hue='label',\n",
    "             multiple='fill')\n",
    "plt.ylabel('%', rotation=0)\n",
    "plt.title('Churn rate by mean km per driving day');"
   ]
  },
  {
   "cell_type": "markdown",
   "id": "80207655",
   "metadata": {
    "id": "cD8icOhNh9zD",
    "papermill": {
     "duration": 0.02854,
     "end_time": "2025-05-26T04:28:05.257011",
     "exception": false,
     "start_time": "2025-05-26T04:28:05.228471",
     "status": "completed"
    },
    "tags": []
   },
   "source": [
    "The churn rate tends to increase as the mean daily distance driven increases, confirming what was found in the previous course. It would be worth investigating further the reasons for long-distance users to discontinue using the app."
   ]
  },
  {
   "cell_type": "markdown",
   "id": "5007f966",
   "metadata": {
    "id": "bKK1y7xTh-xY",
    "papermill": {
     "duration": 0.030404,
     "end_time": "2025-05-26T04:28:05.315953",
     "exception": false,
     "start_time": "2025-05-26T04:28:05.285549",
     "status": "completed"
    },
    "tags": []
   },
   "source": [
    "#### **Churn rate per number of driving days**\n",
    "\n",
    "Create another histogram just like the previous one, only this time it should represent the churn rate for each number of driving days."
   ]
  },
  {
   "cell_type": "code",
   "execution_count": 33,
   "id": "f7e41828",
   "metadata": {
    "execution": {
     "iopub.execute_input": "2025-05-26T04:28:05.375413Z",
     "iopub.status.busy": "2025-05-26T04:28:05.375075Z",
     "iopub.status.idle": "2025-05-26T04:28:05.807257Z",
     "shell.execute_reply": "2025-05-26T04:28:05.806281Z"
    },
    "id": "GPc4nj-7iDPB",
    "papermill": {
     "duration": 0.464224,
     "end_time": "2025-05-26T04:28:05.809072",
     "exception": false,
     "start_time": "2025-05-26T04:28:05.344848",
     "status": "completed"
    },
    "tags": []
   },
   "outputs": [
    {
     "name": "stderr",
     "output_type": "stream",
     "text": [
      "/usr/local/lib/python3.11/dist-packages/seaborn/_oldcore.py:1119: FutureWarning: use_inf_as_na option is deprecated and will be removed in a future version. Convert inf values to NaN before operating instead.\n",
      "  with pd.option_context('mode.use_inf_as_na', True):\n",
      "/usr/local/lib/python3.11/dist-packages/seaborn/_oldcore.py:1075: FutureWarning: When grouping with a length-1 list-like, you will need to pass a length-1 tuple to get_group in a future version of pandas. Pass `(name,)` instead of `name` to silence this warning.\n",
      "  data_subset = grouped_data.get_group(pd_key)\n",
      "/usr/local/lib/python3.11/dist-packages/seaborn/_oldcore.py:1075: FutureWarning: When grouping with a length-1 list-like, you will need to pass a length-1 tuple to get_group in a future version of pandas. Pass `(name,)` instead of `name` to silence this warning.\n",
      "  data_subset = grouped_data.get_group(pd_key)\n",
      "/usr/local/lib/python3.11/dist-packages/seaborn/_oldcore.py:1075: FutureWarning: When grouping with a length-1 list-like, you will need to pass a length-1 tuple to get_group in a future version of pandas. Pass `(name,)` instead of `name` to silence this warning.\n",
      "  data_subset = grouped_data.get_group(pd_key)\n",
      "/usr/local/lib/python3.11/dist-packages/seaborn/_oldcore.py:1075: FutureWarning: When grouping with a length-1 list-like, you will need to pass a length-1 tuple to get_group in a future version of pandas. Pass `(name,)` instead of `name` to silence this warning.\n",
      "  data_subset = grouped_data.get_group(pd_key)\n"
     ]
    },
    {
     "data": {
      "image/png": "[encoded data removed]",
      "text/plain": [
       "<Figure size 1200x500 with 1 Axes>"
      ]
     },
     "metadata": {},
     "output_type": "display_data"
    }
   ],
   "source": [
    "# Histogram\n",
    "plt.figure(figsize=(12,5))\n",
    "sns.histplot(data=df,\n",
    "             x='driving_days',\n",
    "             bins=range(1,32),\n",
    "             hue='label',\n",
    "             multiple='fill',\n",
    "             discrete=True)\n",
    "plt.ylabel('%', rotation=0)\n",
    "plt.title('Churn rate per driving day');"
   ]
  },
  {
   "cell_type": "markdown",
   "id": "2c34ef4a",
   "metadata": {
    "id": "RUD5Bf6yiDoa",
    "papermill": {
     "duration": 0.02897,
     "end_time": "2025-05-26T04:28:05.868716",
     "exception": false,
     "start_time": "2025-05-26T04:28:05.839746",
     "status": "completed"
    },
    "tags": []
   },
   "source": [
    "The churn rate is highest for people who didn't use Waze much during the last month. The more times they used the app, the less likely they were to churn. While 40% of the users who didn't use the app at all last month churned, nobody who used the app 30 days churned.\n",
    "\n",
    "This isn't surprising. If people who used the app a lot churned, it would likely indicate dissatisfaction. When people who don't use the app churn, it might be the result of dissatisfaction in the past, or it might be indicative of a lesser need for a navigational app. Maybe they moved to a city with good public transportation and don't need to drive anymore."
   ]
  },
  {
   "cell_type": "markdown",
   "id": "8087730a",
   "metadata": {
    "id": "75ncCHO7iEFi",
    "papermill": {
     "duration": 0.028825,
     "end_time": "2025-05-26T04:28:05.926500",
     "exception": false,
     "start_time": "2025-05-26T04:28:05.897675",
     "status": "completed"
    },
    "tags": []
   },
   "source": [
    "#### **Proportion of sessions that occurred in the last month**\n",
    "\n",
    "Create a new column `percent_sessions_in_last_month` that represents the percentage of each user's total sessions that were logged in their last month of use."
   ]
  },
  {
   "cell_type": "code",
   "execution_count": 34,
   "id": "dc02f8c2",
   "metadata": {
    "execution": {
     "iopub.execute_input": "2025-05-26T04:28:05.986522Z",
     "iopub.status.busy": "2025-05-26T04:28:05.986166Z",
     "iopub.status.idle": "2025-05-26T04:28:05.992016Z",
     "shell.execute_reply": "2025-05-26T04:28:05.991115Z"
    },
    "id": "NyXwJMJTiSdK",
    "papermill": {
     "duration": 0.037955,
     "end_time": "2025-05-26T04:28:05.993713",
     "exception": false,
     "start_time": "2025-05-26T04:28:05.955758",
     "status": "completed"
    },
    "tags": []
   },
   "outputs": [],
   "source": [
    "df['percent_sessions_in_last_month'] = df['sessions'] / df['total_sessions']"
   ]
  },
  {
   "cell_type": "markdown",
   "id": "bd039994",
   "metadata": {
    "id": "w30I7A3UiWQD",
    "papermill": {
     "duration": 0.029405,
     "end_time": "2025-05-26T04:28:06.052377",
     "exception": false,
     "start_time": "2025-05-26T04:28:06.022972",
     "status": "completed"
    },
    "tags": []
   },
   "source": [
    "What is the median value of the new column?"
   ]
  },
  {
   "cell_type": "code",
   "execution_count": 35,
   "id": "92071cd0",
   "metadata": {
    "execution": {
     "iopub.execute_input": "2025-05-26T04:28:06.112533Z",
     "iopub.status.busy": "2025-05-26T04:28:06.112180Z",
     "iopub.status.idle": "2025-05-26T04:28:06.118859Z",
     "shell.execute_reply": "2025-05-26T04:28:06.117981Z"
    },
    "id": "3wa8IZ7UiS5l",
    "papermill": {
     "duration": 0.038852,
     "end_time": "2025-05-26T04:28:06.120544",
     "exception": false,
     "start_time": "2025-05-26T04:28:06.081692",
     "status": "completed"
    },
    "tags": []
   },
   "outputs": [
    {
     "data": {
      "text/plain": [
       "0.42309702992763176"
      ]
     },
     "execution_count": 35,
     "metadata": {},
     "output_type": "execute_result"
    }
   ],
   "source": [
    "df['percent_sessions_in_last_month'].median()"
   ]
  },
  {
   "cell_type": "markdown",
   "id": "0d218695",
   "metadata": {
    "id": "8EKHSAnXiaIY",
    "papermill": {
     "duration": 0.029287,
     "end_time": "2025-05-26T04:28:06.179376",
     "exception": false,
     "start_time": "2025-05-26T04:28:06.150089",
     "status": "completed"
    },
    "tags": []
   },
   "source": [
    "Now, create a histogram depicting the distribution of values in this new column."
   ]
  },
  {
   "cell_type": "code",
   "execution_count": 36,
   "id": "9954122a",
   "metadata": {
    "execution": {
     "iopub.execute_input": "2025-05-26T04:28:06.240116Z",
     "iopub.status.busy": "2025-05-26T04:28:06.239714Z",
     "iopub.status.idle": "2025-05-26T04:28:06.668164Z",
     "shell.execute_reply": "2025-05-26T04:28:06.667096Z"
    },
    "id": "9NtRmPHpieC3",
    "papermill": {
     "duration": 0.461006,
     "end_time": "2025-05-26T04:28:06.669730",
     "exception": false,
     "start_time": "2025-05-26T04:28:06.208724",
     "status": "completed"
    },
    "tags": []
   },
   "outputs": [
    {
     "name": "stderr",
     "output_type": "stream",
     "text": [
      "/usr/local/lib/python3.11/dist-packages/seaborn/_oldcore.py:1119: FutureWarning: use_inf_as_na option is deprecated and will be removed in a future version. Convert inf values to NaN before operating instead.\n",
      "  with pd.option_context('mode.use_inf_as_na', True):\n",
      "/usr/local/lib/python3.11/dist-packages/seaborn/_oldcore.py:1075: FutureWarning: When grouping with a length-1 list-like, you will need to pass a length-1 tuple to get_group in a future version of pandas. Pass `(name,)` instead of `name` to silence this warning.\n",
      "  data_subset = grouped_data.get_group(pd_key)\n",
      "/usr/local/lib/python3.11/dist-packages/seaborn/_oldcore.py:1075: FutureWarning: When grouping with a length-1 list-like, you will need to pass a length-1 tuple to get_group in a future version of pandas. Pass `(name,)` instead of `name` to silence this warning.\n",
      "  data_subset = grouped_data.get_group(pd_key)\n",
      "/usr/local/lib/python3.11/dist-packages/seaborn/_oldcore.py:1075: FutureWarning: When grouping with a length-1 list-like, you will need to pass a length-1 tuple to get_group in a future version of pandas. Pass `(name,)` instead of `name` to silence this warning.\n",
      "  data_subset = grouped_data.get_group(pd_key)\n"
     ]
    },
    {
     "name": "stdout",
     "output_type": "stream",
     "text": [
      "Median: 0.4\n"
     ]
    },
    {
     "data": {
      "image/png": "[encoded data removed]",
      "text/plain": [
       "<Figure size 500x300 with 1 Axes>"
      ]
     },
     "metadata": {},
     "output_type": "display_data"
    }
   ],
   "source": [
    "# Histogram\n",
    "histogrammer('percent_sessions_in_last_month',\n",
    "             hue=df['label'],\n",
    "             multiple='layer',\n",
    "             median_text=False)"
   ]
  },
  {
   "cell_type": "markdown",
   "id": "85c9dbfa",
   "metadata": {
    "id": "_oSkxrx2iehb",
    "papermill": {
     "duration": 0.037789,
     "end_time": "2025-05-26T04:28:06.740027",
     "exception": false,
     "start_time": "2025-05-26T04:28:06.702238",
     "status": "completed"
    },
    "tags": []
   },
   "source": [
    "Check the median value of the `n_days_after_onboarding` variable."
   ]
  },
  {
   "cell_type": "code",
   "execution_count": 37,
   "id": "b7ec37a0",
   "metadata": {
    "execution": {
     "iopub.execute_input": "2025-05-26T04:28:06.806089Z",
     "iopub.status.busy": "2025-05-26T04:28:06.805751Z",
     "iopub.status.idle": "2025-05-26T04:28:06.812308Z",
     "shell.execute_reply": "2025-05-26T04:28:06.811372Z"
    },
    "id": "pHJADu8Mi0u2",
    "papermill": {
     "duration": 0.041445,
     "end_time": "2025-05-26T04:28:06.813779",
     "exception": false,
     "start_time": "2025-05-26T04:28:06.772334",
     "status": "completed"
    },
    "tags": []
   },
   "outputs": [
    {
     "data": {
      "text/plain": [
       "1741.0"
      ]
     },
     "execution_count": 37,
     "metadata": {},
     "output_type": "execute_result"
    }
   ],
   "source": [
    "df['n_days_after_onboarding'].median()"
   ]
  },
  {
   "cell_type": "markdown",
   "id": "1b638b9f",
   "metadata": {
    "id": "4IFsNT-9izvT",
    "papermill": {
     "duration": 0.029868,
     "end_time": "2025-05-26T04:28:06.874249",
     "exception": false,
     "start_time": "2025-05-26T04:28:06.844381",
     "status": "completed"
    },
    "tags": []
   },
   "source": [
    "Half of the people in the dataset had 40% or more of their sessions in just the last month, yet the overall median time since onboarding is almost five years.\n",
    "\n",
    "Make a histogram of `n_days_after_onboarding` for just the people who had 40% or more of their total sessions in the last month."
   ]
  },
  {
   "cell_type": "code",
   "execution_count": 38,
   "id": "38968980",
   "metadata": {
    "execution": {
     "iopub.execute_input": "2025-05-26T04:28:06.936314Z",
     "iopub.status.busy": "2025-05-26T04:28:06.935971Z",
     "iopub.status.idle": "2025-05-26T04:28:07.181929Z",
     "shell.execute_reply": "2025-05-26T04:28:07.180931Z"
    },
    "id": "AsycVhNdi-Va",
    "papermill": {
     "duration": 0.278883,
     "end_time": "2025-05-26T04:28:07.183390",
     "exception": false,
     "start_time": "2025-05-26T04:28:06.904507",
     "status": "completed"
    },
    "tags": []
   },
   "outputs": [
    {
     "name": "stderr",
     "output_type": "stream",
     "text": [
      "/usr/local/lib/python3.11/dist-packages/seaborn/_oldcore.py:1119: FutureWarning: use_inf_as_na option is deprecated and will be removed in a future version. Convert inf values to NaN before operating instead.\n",
      "  with pd.option_context('mode.use_inf_as_na', True):\n"
     ]
    },
    {
     "data": {
      "image/png": "[encoded data removed]",
      "text/plain": [
       "<Figure size 500x300 with 1 Axes>"
      ]
     },
     "metadata": {},
     "output_type": "display_data"
    }
   ],
   "source": [
    "# Histogram\n",
    "data = df.loc[df['percent_sessions_in_last_month']>=0.4]\n",
    "plt.figure(figsize=(5,3))\n",
    "sns.histplot(x=data['n_days_after_onboarding'])\n",
    "plt.title('Num. days after onboarding for users with >=40% sessions in last month');"
   ]
  },
  {
   "cell_type": "markdown",
   "id": "77e884ce",
   "metadata": {
    "id": "flcUGkjUjAqW",
    "papermill": {
     "duration": 0.030407,
     "end_time": "2025-05-26T04:28:07.244664",
     "exception": false,
     "start_time": "2025-05-26T04:28:07.214257",
     "status": "completed"
    },
    "tags": []
   },
   "source": [
    "The number of days since onboarding for users with 40% or more of their total sessions occurring in just the last month is a uniform distribution. This is very strange. It's worth asking Waze why so many long-time users suddenly used the app so much in the last month."
   ]
  },
  {
   "cell_type": "markdown",
   "id": "c4fd75e5",
   "metadata": {
    "id": "O0zL7Nd0jMYS",
    "papermill": {
     "duration": 0.030911,
     "end_time": "2025-05-26T04:28:07.305948",
     "exception": false,
     "start_time": "2025-05-26T04:28:07.275037",
     "status": "completed"
    },
    "tags": []
   },
   "source": [
    "### **Task 3b. Handling outliers**\n",
    "\n",
    "The box plots from the previous section indicated that many of these variables have outliers. These outliers do not seem to be data entry errors; they are present because of the right-skewed distributions.\n",
    "\n",
    "Depending on what you'll be doing with this data, it may be useful to impute outlying data with more reasonable values. One way of performing this imputation is to set a threshold based on a percentile of the distribution.\n",
    "\n",
    "To practice this technique, write a function that calculates the 95th percentile of a given column, then imputes values > the 95th percentile with the value at the 95th percentile.  such as the 95th percentile of the distribution.\n",
    "\n"
   ]
  },
  {
   "cell_type": "code",
   "execution_count": 39,
   "id": "9aaa36c5",
   "metadata": {
    "execution": {
     "iopub.execute_input": "2025-05-26T04:28:07.370997Z",
     "iopub.status.busy": "2025-05-26T04:28:07.370685Z",
     "iopub.status.idle": "2025-05-26T04:28:07.376293Z",
     "shell.execute_reply": "2025-05-26T04:28:07.375312Z"
    },
    "id": "4Ki9T-m7jsGy",
    "papermill": {
     "duration": 0.039507,
     "end_time": "2025-05-26T04:28:07.377824",
     "exception": false,
     "start_time": "2025-05-26T04:28:07.338317",
     "status": "completed"
    },
    "tags": []
   },
   "outputs": [],
   "source": [
    "def outlier_imputer(column_name, percentile):\n",
    "    # Calculate threshold\n",
    "    threshold = df[column_name].quantile(percentile)\n",
    "    # Impute threshold for values > than threshold\n",
    "    df.loc[df[column_name] > threshold, column_name] = threshold\n",
    "\n",
    "    print('{:>25} | percentile: {} | threshold: {}'.format(column_name, percentile, threshold))"
   ]
  },
  {
   "cell_type": "markdown",
   "id": "9443c420",
   "metadata": {
    "id": "nsdi-4dSkmMF",
    "papermill": {
     "duration": 0.0306,
     "end_time": "2025-05-26T04:28:07.440529",
     "exception": false,
     "start_time": "2025-05-26T04:28:07.409929",
     "status": "completed"
    },
    "tags": []
   },
   "source": [
    "Next, apply that function to the following columns:\n",
    "* `sessions`\n",
    "* `drives`\n",
    "* `total_sessions`\n",
    "* `driven_km_drives`\n",
    "* `duration_minutes_drives`"
   ]
  },
  {
   "cell_type": "code",
   "execution_count": 40,
   "id": "a0b8b4ef",
   "metadata": {
    "execution": {
     "iopub.execute_input": "2025-05-26T04:28:07.504551Z",
     "iopub.status.busy": "2025-05-26T04:28:07.504187Z",
     "iopub.status.idle": "2025-05-26T04:28:07.519057Z",
     "shell.execute_reply": "2025-05-26T04:28:07.517897Z"
    },
    "id": "f6_TKdIHjtS9",
    "papermill": {
     "duration": 0.049397,
     "end_time": "2025-05-26T04:28:07.520674",
     "exception": false,
     "start_time": "2025-05-26T04:28:07.471277",
     "status": "completed"
    },
    "tags": []
   },
   "outputs": [
    {
     "name": "stdout",
     "output_type": "stream",
     "text": [
      "                 sessions | percentile: 0.95 | threshold: 243.0\n",
      "                   drives | percentile: 0.95 | threshold: 201.0\n",
      "           total_sessions | percentile: 0.95 | threshold: 454.3632037399997\n",
      "         driven_km_drives | percentile: 0.95 | threshold: 8889.7942356\n",
      "  duration_minutes_drives | percentile: 0.95 | threshold: 4668.899348999998\n"
     ]
    }
   ],
   "source": [
    "for column in ['sessions', 'drives', 'total_sessions',\n",
    "               'driven_km_drives', 'duration_minutes_drives']:\n",
    "               outlier_imputer(column, 0.95)"
   ]
  },
  {
   "cell_type": "markdown",
   "id": "55a018a2",
   "metadata": {
    "id": "_Az4Ma-xj3K4",
    "papermill": {
     "duration": 0.030435,
     "end_time": "2025-05-26T04:28:07.582045",
     "exception": false,
     "start_time": "2025-05-26T04:28:07.551610",
     "status": "completed"
    },
    "tags": []
   },
   "source": [
    "Call `describe()` to see if your change worked."
   ]
  },
  {
   "cell_type": "code",
   "execution_count": 41,
   "id": "6a971802",
   "metadata": {
    "execution": {
     "iopub.execute_input": "2025-05-26T04:28:07.646163Z",
     "iopub.status.busy": "2025-05-26T04:28:07.645236Z",
     "iopub.status.idle": "2025-05-26T04:28:07.691817Z",
     "shell.execute_reply": "2025-05-26T04:28:07.690747Z"
    },
    "id": "IXQkG9RekP85",
    "papermill": {
     "duration": 0.080397,
     "end_time": "2025-05-26T04:28:07.693534",
     "exception": false,
     "start_time": "2025-05-26T04:28:07.613137",
     "status": "completed"
    },
    "tags": []
   },
   "outputs": [
    {
     "data": {
      "text/html": [
       "<div>\n",
       "<style scoped>\n",
       "    .dataframe tbody tr th:only-of-type {\n",
       "        vertical-align: middle;\n",
       "    }\n",
       "\n",
       "    .dataframe tbody tr th {\n",
       "        vertical-align: top;\n",
       "    }\n",
       "\n",
       "    .dataframe thead th {\n",
       "        text-align: right;\n",
       "    }\n",
       "</style>\n",
       "<table border=\"1\" class=\"dataframe\">\n",
       "  <thead>\n",
       "    <tr style=\"text-align: right;\">\n",
       "      <th></th>\n",
       "      <th>ID</th>\n",
       "      <th>sessions</th>\n",
       "      <th>drives</th>\n",
       "      <th>total_sessions</th>\n",
       "      <th>n_days_after_onboarding</th>\n",
       "      <th>total_navigations_fav1</th>\n",
       "      <th>total_navigations_fav2</th>\n",
       "      <th>driven_km_drives</th>\n",
       "      <th>duration_minutes_drives</th>\n",
       "      <th>activity_days</th>\n",
       "      <th>driving_days</th>\n",
       "      <th>km_per_driving_day</th>\n",
       "      <th>percent_sessions_in_last_month</th>\n",
       "    </tr>\n",
       "  </thead>\n",
       "  <tbody>\n",
       "    <tr>\n",
       "      <th>count</th>\n",
       "      <td>14999.000000</td>\n",
       "      <td>14999.000000</td>\n",
       "      <td>14999.000000</td>\n",
       "      <td>14999.000000</td>\n",
       "      <td>14999.000000</td>\n",
       "      <td>14999.000000</td>\n",
       "      <td>14999.000000</td>\n",
       "      <td>14999.000000</td>\n",
       "      <td>14999.000000</td>\n",
       "      <td>14999.000000</td>\n",
       "      <td>14999.000000</td>\n",
       "      <td>14999.000000</td>\n",
       "      <td>14999.000000</td>\n",
       "    </tr>\n",
       "    <tr>\n",
       "      <th>mean</th>\n",
       "      <td>7499.000000</td>\n",
       "      <td>76.568705</td>\n",
       "      <td>64.058204</td>\n",
       "      <td>184.031320</td>\n",
       "      <td>1749.837789</td>\n",
       "      <td>121.605974</td>\n",
       "      <td>29.672512</td>\n",
       "      <td>3939.632764</td>\n",
       "      <td>1789.647426</td>\n",
       "      <td>15.537102</td>\n",
       "      <td>12.179879</td>\n",
       "      <td>578.963113</td>\n",
       "      <td>0.449255</td>\n",
       "    </tr>\n",
       "    <tr>\n",
       "      <th>std</th>\n",
       "      <td>4329.982679</td>\n",
       "      <td>67.297958</td>\n",
       "      <td>55.306924</td>\n",
       "      <td>118.600463</td>\n",
       "      <td>1008.513876</td>\n",
       "      <td>148.121544</td>\n",
       "      <td>45.394651</td>\n",
       "      <td>2216.041510</td>\n",
       "      <td>1222.705167</td>\n",
       "      <td>9.004655</td>\n",
       "      <td>7.824036</td>\n",
       "      <td>1030.094384</td>\n",
       "      <td>0.286919</td>\n",
       "    </tr>\n",
       "    <tr>\n",
       "      <th>min</th>\n",
       "      <td>0.000000</td>\n",
       "      <td>0.000000</td>\n",
       "      <td>0.000000</td>\n",
       "      <td>0.220211</td>\n",
       "      <td>4.000000</td>\n",
       "      <td>0.000000</td>\n",
       "      <td>0.000000</td>\n",
       "      <td>60.441250</td>\n",
       "      <td>18.282082</td>\n",
       "      <td>0.000000</td>\n",
       "      <td>0.000000</td>\n",
       "      <td>0.000000</td>\n",
       "      <td>0.000000</td>\n",
       "    </tr>\n",
       "    <tr>\n",
       "      <th>25%</th>\n",
       "      <td>3749.500000</td>\n",
       "      <td>23.000000</td>\n",
       "      <td>20.000000</td>\n",
       "      <td>90.661156</td>\n",
       "      <td>878.000000</td>\n",
       "      <td>9.000000</td>\n",
       "      <td>0.000000</td>\n",
       "      <td>2212.600607</td>\n",
       "      <td>835.996260</td>\n",
       "      <td>8.000000</td>\n",
       "      <td>5.000000</td>\n",
       "      <td>136.238895</td>\n",
       "      <td>0.196221</td>\n",
       "    </tr>\n",
       "    <tr>\n",
       "      <th>50%</th>\n",
       "      <td>7499.000000</td>\n",
       "      <td>56.000000</td>\n",
       "      <td>48.000000</td>\n",
       "      <td>159.568115</td>\n",
       "      <td>1741.000000</td>\n",
       "      <td>71.000000</td>\n",
       "      <td>9.000000</td>\n",
       "      <td>3493.858085</td>\n",
       "      <td>1478.249859</td>\n",
       "      <td>16.000000</td>\n",
       "      <td>12.000000</td>\n",
       "      <td>272.889272</td>\n",
       "      <td>0.423097</td>\n",
       "    </tr>\n",
       "    <tr>\n",
       "      <th>75%</th>\n",
       "      <td>11248.500000</td>\n",
       "      <td>112.000000</td>\n",
       "      <td>93.000000</td>\n",
       "      <td>254.192341</td>\n",
       "      <td>2623.500000</td>\n",
       "      <td>178.000000</td>\n",
       "      <td>43.000000</td>\n",
       "      <td>5289.861262</td>\n",
       "      <td>2464.362632</td>\n",
       "      <td>23.000000</td>\n",
       "      <td>19.000000</td>\n",
       "      <td>558.686918</td>\n",
       "      <td>0.687216</td>\n",
       "    </tr>\n",
       "    <tr>\n",
       "      <th>max</th>\n",
       "      <td>14998.000000</td>\n",
       "      <td>243.000000</td>\n",
       "      <td>201.000000</td>\n",
       "      <td>454.363204</td>\n",
       "      <td>3500.000000</td>\n",
       "      <td>1236.000000</td>\n",
       "      <td>415.000000</td>\n",
       "      <td>8889.794236</td>\n",
       "      <td>4668.899349</td>\n",
       "      <td>31.000000</td>\n",
       "      <td>30.000000</td>\n",
       "      <td>15420.234110</td>\n",
       "      <td>1.530637</td>\n",
       "    </tr>\n",
       "  </tbody>\n",
       "</table>\n",
       "</div>"
      ],
      "text/plain": [
       "                 ID      sessions        drives  total_sessions  \\\n",
       "count  14999.000000  14999.000000  14999.000000    14999.000000   \n",
       "mean    7499.000000     76.568705     64.058204      184.031320   \n",
       "std     4329.982679     67.297958     55.306924      118.600463   \n",
       "min        0.000000      0.000000      0.000000        0.220211   \n",
       "25%     3749.500000     23.000000     20.000000       90.661156   \n",
       "50%     7499.000000     56.000000     48.000000      159.568115   \n",
       "75%    11248.500000    112.000000     93.000000      254.192341   \n",
       "max    14998.000000    243.000000    201.000000      454.363204   \n",
       "\n",
       "       n_days_after_onboarding  total_navigations_fav1  \\\n",
       "count             14999.000000            14999.000000   \n",
       "mean               1749.837789              121.605974   \n",
       "std                1008.513876              148.121544   \n",
       "min                   4.000000                0.000000   \n",
       "25%                 878.000000                9.000000   \n",
       "50%                1741.000000               71.000000   \n",
       "75%                2623.500000              178.000000   \n",
       "max                3500.000000             1236.000000   \n",
       "\n",
       "       total_navigations_fav2  driven_km_drives  duration_minutes_drives  \\\n",
       "count            14999.000000      14999.000000             14999.000000   \n",
       "mean                29.672512       3939.632764              1789.647426   \n",
       "std                 45.394651       2216.041510              1222.705167   \n",
       "min                  0.000000         60.441250                18.282082   \n",
       "25%                  0.000000       2212.600607               835.996260   \n",
       "50%                  9.000000       3493.858085              1478.249859   \n",
       "75%                 43.000000       5289.861262              2464.362632   \n",
       "max                415.000000       8889.794236              4668.899349   \n",
       "\n",
       "       activity_days  driving_days  km_per_driving_day  \\\n",
       "count   14999.000000  14999.000000        14999.000000   \n",
       "mean       15.537102     12.179879          578.963113   \n",
       "std         9.004655      7.824036         1030.094384   \n",
       "min         0.000000      0.000000            0.000000   \n",
       "25%         8.000000      5.000000          136.238895   \n",
       "50%        16.000000     12.000000          272.889272   \n",
       "75%        23.000000     19.000000          558.686918   \n",
       "max        31.000000     30.000000        15420.234110   \n",
       "\n",
       "       percent_sessions_in_last_month  \n",
       "count                    14999.000000  \n",
       "mean                         0.449255  \n",
       "std                          0.286919  \n",
       "min                          0.000000  \n",
       "25%                          0.196221  \n",
       "50%                          0.423097  \n",
       "75%                          0.687216  \n",
       "max                          1.530637  "
      ]
     },
     "execution_count": 41,
     "metadata": {},
     "output_type": "execute_result"
    }
   ],
   "source": [
    "df.describe()"
   ]
  },
  {
   "cell_type": "markdown",
   "id": "01b0362a",
   "metadata": {
    "id": "DHwqofOJkQcl",
    "papermill": {
     "duration": 0.030956,
     "end_time": "2025-05-26T04:28:07.755818",
     "exception": false,
     "start_time": "2025-05-26T04:28:07.724862",
     "status": "completed"
    },
    "tags": []
   },
   "source": [
    "#### **Conclusion**\n",
    "\n",
    "Analysis revealed that the overall churn rate is \\~17%, and that this rate is consistent between iPhone users and Android users.\n",
    "\n",
    "Perhaps you feel that the more deeply you explore the data, the more questions arise. This is not uncommon! In this case, it's worth asking the Waze data team why so many users used the app so much in just the last month.\n",
    "\n",
    "Also, EDA has revealed that users who drive very long distances on their driving days are _more_ likely to churn, but users who drive more often are _less_ likely to churn. The reason for this discrepancy is an opportunity for further investigation, and it would be something else to ask the Waze data team about."
   ]
  },
  {
   "cell_type": "markdown",
   "id": "7943973f",
   "metadata": {
    "id": "NsvBtco1x8GN",
    "papermill": {
     "duration": 0.031705,
     "end_time": "2025-05-26T04:28:07.818410",
     "exception": false,
     "start_time": "2025-05-26T04:28:07.786705",
     "status": "completed"
    },
    "tags": []
   },
   "source": [
    "<img src=\"images/Execute.png\" width=\"100\" height=\"100\" align=left>\n",
    "\n",
    "## **PACE: Execute**\n",
    "\n",
    "Consider the questions in your PACE Strategy Document to reflect on the Execute stage."
   ]
  },
  {
   "cell_type": "markdown",
   "id": "14a98bf6",
   "metadata": {
    "id": "csHAfM-RSO7l",
    "papermill": {
     "duration": 0.030775,
     "end_time": "2025-05-26T04:28:07.880720",
     "exception": false,
     "start_time": "2025-05-26T04:28:07.849945",
     "status": "completed"
    },
    "tags": []
   },
   "source": [
    "### **Task 4a. Results and evaluation**\n",
    "\n",
    "Having built visualizations in Python, what have you learned about the dataset? What other questions have your visualizations uncovered that you should pursue?\n",
    "\n",
    "**Pro tip:** Put yourself in your client's perspective. What would they want to know?\n",
    "\n",
    "Use the following code fields to pursue any additional EDA based on the visualizations you've already plotted. Also use the space to make sure your visualizations are clean, easily understandable, and accessible.\n",
    "\n",
    "**Ask yourself:** Did you consider color, contrast, emphasis, and labeling?\n",
    "\n"
   ]
  },
  {
   "cell_type": "markdown",
   "id": "38041e9b",
   "metadata": {
    "id": "pOp0vmf1zOHO",
    "papermill": {
     "duration": 0.031959,
     "end_time": "2025-05-26T04:28:07.943657",
     "exception": false,
     "start_time": "2025-05-26T04:28:07.911698",
     "status": "completed"
    },
    "tags": []
   },
   "source": [
    "I have learned ....\n",
    "\n",
    "* There is missing data in the user churn label, so we might need  further data processing before further analysis.\n",
    "* There are many outlying observations for drives, so we might consider a variable transformation to stabilize the variation.\n",
    "* The number of drives and the number of sessions are both strongly correlated, so they might provide redundant information when we incorporate both in a model.\n",
    "* On average, retained users have fewer drives than churned users.\n",
    "\n",
    "My other questions are ....\n",
    "\n",
    "* How does the missingness in the user churn label arise?\n",
    "* Who are the users with an extremely large number of drives? Are they ridesharing drivers or commercial drivers?\n",
    "* Why do retained users have fewer drives than churned users? Is it because churned users have a longer history of using the Waze app?\n",
    "* What is the user demographic for retained users and churned users?\n",
    "\n",
    "My client would likely want to know ...\n",
    "\n",
    "* What are the key variables associated with user churn?\n",
    "* Can we implement policies to reduce user churn?\n",
    "\n",
    "\n"
   ]
  },
  {
   "cell_type": "markdown",
   "id": "25e43ed7",
   "metadata": {
    "id": "8DPt8f6Pa2hg",
    "papermill": {
     "duration": 0.031673,
     "end_time": "2025-05-26T04:28:08.006398",
     "exception": false,
     "start_time": "2025-05-26T04:28:07.974725",
     "status": "completed"
    },
    "tags": []
   },
   "source": [
    "Use the following two code blocks (add more blocks if you like) to do additional EDA you feel is important based on the given scenario."
   ]
  },
  {
   "cell_type": "code",
   "execution_count": 42,
   "id": "a2e82db6",
   "metadata": {
    "execution": {
     "iopub.execute_input": "2025-05-26T04:28:08.069923Z",
     "iopub.status.busy": "2025-05-26T04:28:08.069596Z",
     "iopub.status.idle": "2025-05-26T04:28:08.075326Z",
     "shell.execute_reply": "2025-05-26T04:28:08.074504Z"
    },
    "id": "puYiPmvGdTJH",
    "papermill": {
     "duration": 0.039301,
     "end_time": "2025-05-26T04:28:08.076889",
     "exception": false,
     "start_time": "2025-05-26T04:28:08.037588",
     "status": "completed"
    },
    "tags": []
   },
   "outputs": [],
   "source": [
    "df['monthly_drives_per_session_ratio'] = (df['drives']/df['sessions'])"
   ]
  },
  {
   "cell_type": "code",
   "execution_count": 43,
   "id": "cbc18b11",
   "metadata": {
    "execution": {
     "iopub.execute_input": "2025-05-26T04:28:08.141208Z",
     "iopub.status.busy": "2025-05-26T04:28:08.140895Z",
     "iopub.status.idle": "2025-05-26T04:28:08.158696Z",
     "shell.execute_reply": "2025-05-26T04:28:08.157514Z"
    },
    "id": "iEv7pHw-dTRP",
    "papermill": {
     "duration": 0.051773,
     "end_time": "2025-05-26T04:28:08.160372",
     "exception": false,
     "start_time": "2025-05-26T04:28:08.108599",
     "status": "completed"
    },
    "tags": []
   },
   "outputs": [
    {
     "data": {
      "text/html": [
       "<div>\n",
       "<style scoped>\n",
       "    .dataframe tbody tr th:only-of-type {\n",
       "        vertical-align: middle;\n",
       "    }\n",
       "\n",
       "    .dataframe tbody tr th {\n",
       "        vertical-align: top;\n",
       "    }\n",
       "\n",
       "    .dataframe thead th {\n",
       "        text-align: right;\n",
       "    }\n",
       "</style>\n",
       "<table border=\"1\" class=\"dataframe\">\n",
       "  <thead>\n",
       "    <tr style=\"text-align: right;\">\n",
       "      <th></th>\n",
       "      <th>ID</th>\n",
       "      <th>label</th>\n",
       "      <th>sessions</th>\n",
       "      <th>drives</th>\n",
       "      <th>total_sessions</th>\n",
       "      <th>n_days_after_onboarding</th>\n",
       "      <th>total_navigations_fav1</th>\n",
       "      <th>total_navigations_fav2</th>\n",
       "      <th>driven_km_drives</th>\n",
       "      <th>duration_minutes_drives</th>\n",
       "      <th>activity_days</th>\n",
       "      <th>driving_days</th>\n",
       "      <th>device</th>\n",
       "      <th>km_per_driving_day</th>\n",
       "      <th>percent_sessions_in_last_month</th>\n",
       "      <th>monthly_drives_per_session_ratio</th>\n",
       "    </tr>\n",
       "  </thead>\n",
       "  <tbody>\n",
       "    <tr>\n",
       "      <th>0</th>\n",
       "      <td>0</td>\n",
       "      <td>retained</td>\n",
       "      <td>243</td>\n",
       "      <td>201</td>\n",
       "      <td>296.748273</td>\n",
       "      <td>2276</td>\n",
       "      <td>208</td>\n",
       "      <td>0</td>\n",
       "      <td>2628.845068</td>\n",
       "      <td>1985.775061</td>\n",
       "      <td>28</td>\n",
       "      <td>19</td>\n",
       "      <td>Android</td>\n",
       "      <td>138.360267</td>\n",
       "      <td>0.953670</td>\n",
       "      <td>0.827160</td>\n",
       "    </tr>\n",
       "    <tr>\n",
       "      <th>1</th>\n",
       "      <td>1</td>\n",
       "      <td>retained</td>\n",
       "      <td>133</td>\n",
       "      <td>107</td>\n",
       "      <td>326.896596</td>\n",
       "      <td>1225</td>\n",
       "      <td>19</td>\n",
       "      <td>64</td>\n",
       "      <td>8889.794236</td>\n",
       "      <td>3160.472914</td>\n",
       "      <td>13</td>\n",
       "      <td>11</td>\n",
       "      <td>iPhone</td>\n",
       "      <td>1246.901868</td>\n",
       "      <td>0.406856</td>\n",
       "      <td>0.804511</td>\n",
       "    </tr>\n",
       "    <tr>\n",
       "      <th>2</th>\n",
       "      <td>2</td>\n",
       "      <td>retained</td>\n",
       "      <td>114</td>\n",
       "      <td>95</td>\n",
       "      <td>135.522926</td>\n",
       "      <td>2651</td>\n",
       "      <td>0</td>\n",
       "      <td>0</td>\n",
       "      <td>3059.148818</td>\n",
       "      <td>1610.735904</td>\n",
       "      <td>14</td>\n",
       "      <td>8</td>\n",
       "      <td>Android</td>\n",
       "      <td>382.393602</td>\n",
       "      <td>0.841186</td>\n",
       "      <td>0.833333</td>\n",
       "    </tr>\n",
       "    <tr>\n",
       "      <th>3</th>\n",
       "      <td>3</td>\n",
       "      <td>retained</td>\n",
       "      <td>49</td>\n",
       "      <td>40</td>\n",
       "      <td>67.589221</td>\n",
       "      <td>15</td>\n",
       "      <td>322</td>\n",
       "      <td>7</td>\n",
       "      <td>913.591123</td>\n",
       "      <td>587.196542</td>\n",
       "      <td>7</td>\n",
       "      <td>3</td>\n",
       "      <td>iPhone</td>\n",
       "      <td>304.530374</td>\n",
       "      <td>0.724968</td>\n",
       "      <td>0.816327</td>\n",
       "    </tr>\n",
       "    <tr>\n",
       "      <th>4</th>\n",
       "      <td>4</td>\n",
       "      <td>retained</td>\n",
       "      <td>84</td>\n",
       "      <td>68</td>\n",
       "      <td>168.247020</td>\n",
       "      <td>1562</td>\n",
       "      <td>166</td>\n",
       "      <td>5</td>\n",
       "      <td>3950.202008</td>\n",
       "      <td>1219.555924</td>\n",
       "      <td>27</td>\n",
       "      <td>18</td>\n",
       "      <td>Android</td>\n",
       "      <td>219.455667</td>\n",
       "      <td>0.499266</td>\n",
       "      <td>0.809524</td>\n",
       "    </tr>\n",
       "    <tr>\n",
       "      <th>5</th>\n",
       "      <td>5</td>\n",
       "      <td>retained</td>\n",
       "      <td>113</td>\n",
       "      <td>103</td>\n",
       "      <td>279.544437</td>\n",
       "      <td>2637</td>\n",
       "      <td>0</td>\n",
       "      <td>0</td>\n",
       "      <td>901.238699</td>\n",
       "      <td>439.101397</td>\n",
       "      <td>15</td>\n",
       "      <td>11</td>\n",
       "      <td>iPhone</td>\n",
       "      <td>81.930791</td>\n",
       "      <td>0.404229</td>\n",
       "      <td>0.911504</td>\n",
       "    </tr>\n",
       "    <tr>\n",
       "      <th>6</th>\n",
       "      <td>6</td>\n",
       "      <td>retained</td>\n",
       "      <td>3</td>\n",
       "      <td>2</td>\n",
       "      <td>236.725314</td>\n",
       "      <td>360</td>\n",
       "      <td>185</td>\n",
       "      <td>18</td>\n",
       "      <td>5249.172828</td>\n",
       "      <td>726.577205</td>\n",
       "      <td>28</td>\n",
       "      <td>23</td>\n",
       "      <td>iPhone</td>\n",
       "      <td>228.224906</td>\n",
       "      <td>0.012673</td>\n",
       "      <td>0.666667</td>\n",
       "    </tr>\n",
       "    <tr>\n",
       "      <th>7</th>\n",
       "      <td>7</td>\n",
       "      <td>retained</td>\n",
       "      <td>39</td>\n",
       "      <td>35</td>\n",
       "      <td>176.072845</td>\n",
       "      <td>2999</td>\n",
       "      <td>0</td>\n",
       "      <td>0</td>\n",
       "      <td>7892.052468</td>\n",
       "      <td>2466.981741</td>\n",
       "      <td>22</td>\n",
       "      <td>20</td>\n",
       "      <td>iPhone</td>\n",
       "      <td>394.602623</td>\n",
       "      <td>0.221499</td>\n",
       "      <td>0.897436</td>\n",
       "    </tr>\n",
       "    <tr>\n",
       "      <th>8</th>\n",
       "      <td>8</td>\n",
       "      <td>retained</td>\n",
       "      <td>57</td>\n",
       "      <td>46</td>\n",
       "      <td>183.532018</td>\n",
       "      <td>424</td>\n",
       "      <td>0</td>\n",
       "      <td>26</td>\n",
       "      <td>2651.709764</td>\n",
       "      <td>1594.342984</td>\n",
       "      <td>25</td>\n",
       "      <td>20</td>\n",
       "      <td>Android</td>\n",
       "      <td>132.585488</td>\n",
       "      <td>0.310573</td>\n",
       "      <td>0.807018</td>\n",
       "    </tr>\n",
       "    <tr>\n",
       "      <th>9</th>\n",
       "      <td>9</td>\n",
       "      <td>churned</td>\n",
       "      <td>84</td>\n",
       "      <td>68</td>\n",
       "      <td>244.802115</td>\n",
       "      <td>2997</td>\n",
       "      <td>72</td>\n",
       "      <td>0</td>\n",
       "      <td>6043.460295</td>\n",
       "      <td>2341.838528</td>\n",
       "      <td>7</td>\n",
       "      <td>3</td>\n",
       "      <td>iPhone</td>\n",
       "      <td>2014.486765</td>\n",
       "      <td>0.343134</td>\n",
       "      <td>0.809524</td>\n",
       "    </tr>\n",
       "  </tbody>\n",
       "</table>\n",
       "</div>"
      ],
      "text/plain": [
       "   ID     label  sessions  drives  total_sessions  n_days_after_onboarding  \\\n",
       "0   0  retained       243     201      296.748273                     2276   \n",
       "1   1  retained       133     107      326.896596                     1225   \n",
       "2   2  retained       114      95      135.522926                     2651   \n",
       "3   3  retained        49      40       67.589221                       15   \n",
       "4   4  retained        84      68      168.247020                     1562   \n",
       "5   5  retained       113     103      279.544437                     2637   \n",
       "6   6  retained         3       2      236.725314                      360   \n",
       "7   7  retained        39      35      176.072845                     2999   \n",
       "8   8  retained        57      46      183.532018                      424   \n",
       "9   9   churned        84      68      244.802115                     2997   \n",
       "\n",
       "   total_navigations_fav1  total_navigations_fav2  driven_km_drives  \\\n",
       "0                     208                       0       2628.845068   \n",
       "1                      19                      64       8889.794236   \n",
       "2                       0                       0       3059.148818   \n",
       "3                     322                       7        913.591123   \n",
       "4                     166                       5       3950.202008   \n",
       "5                       0                       0        901.238699   \n",
       "6                     185                      18       5249.172828   \n",
       "7                       0                       0       7892.052468   \n",
       "8                       0                      26       2651.709764   \n",
       "9                      72                       0       6043.460295   \n",
       "\n",
       "   duration_minutes_drives  activity_days  driving_days   device  \\\n",
       "0              1985.775061             28            19  Android   \n",
       "1              3160.472914             13            11   iPhone   \n",
       "2              1610.735904             14             8  Android   \n",
       "3               587.196542              7             3   iPhone   \n",
       "4              1219.555924             27            18  Android   \n",
       "5               439.101397             15            11   iPhone   \n",
       "6               726.577205             28            23   iPhone   \n",
       "7              2466.981741             22            20   iPhone   \n",
       "8              1594.342984             25            20  Android   \n",
       "9              2341.838528              7             3   iPhone   \n",
       "\n",
       "   km_per_driving_day  percent_sessions_in_last_month  \\\n",
       "0          138.360267                        0.953670   \n",
       "1         1246.901868                        0.406856   \n",
       "2          382.393602                        0.841186   \n",
       "3          304.530374                        0.724968   \n",
       "4          219.455667                        0.499266   \n",
       "5           81.930791                        0.404229   \n",
       "6          228.224906                        0.012673   \n",
       "7          394.602623                        0.221499   \n",
       "8          132.585488                        0.310573   \n",
       "9         2014.486765                        0.343134   \n",
       "\n",
       "   monthly_drives_per_session_ratio  \n",
       "0                          0.827160  \n",
       "1                          0.804511  \n",
       "2                          0.833333  \n",
       "3                          0.816327  \n",
       "4                          0.809524  \n",
       "5                          0.911504  \n",
       "6                          0.666667  \n",
       "7                          0.897436  \n",
       "8                          0.807018  \n",
       "9                          0.809524  "
      ]
     },
     "execution_count": 43,
     "metadata": {},
     "output_type": "execute_result"
    }
   ],
   "source": [
    "df.head(10)\n"
   ]
  },
  {
   "cell_type": "markdown",
   "id": "42391dab",
   "metadata": {
    "id": "U4HeITeOwXfo",
    "papermill": {
     "duration": 0.0332,
     "end_time": "2025-05-26T04:28:08.225488",
     "exception": false,
     "start_time": "2025-05-26T04:28:08.192288",
     "status": "completed"
    },
    "tags": []
   },
   "source": [
    "### **Task 4b. Conclusion**\n",
    "\n",
    "Now that you've explored and visualized your data, the next step is to share your findings with Harriet Hadzic, Waze's Director of Data Analysis. Consider the following questions as you prepare to write your executive summary. Think about key points you may want to share with the team, and what information is most relevant to the user churn project.\n",
    "\n",
    "**Questions:**\n",
    "\n",
    "1. What types of distributions did you notice in the variables? What did this tell you about the data?\n",
    "\n",
    "> *Nearly all the variables were either very right-skewed or uniformly distributed. For the right-skewed distributions, this means that most users had values in the lower end of the range for that variable. For the uniform distributions, this means that users were generally equally likely to have values anywhere within the range for that variable.*\n",
    "\n",
    "2. Was there anything that led you to believe the data was erroneous or problematic in any way?\n",
    "\n",
    "> *Most of the data was not problematic, and there was no indication that any single variable was completely wrong. However, several variables had highly improbable or perhaps even impossible outlying values, such as `driven_km_drives`. Some of the monthly variables also might be problematic, such as `activity_days` and `driving_days`, because one has a max value of 31 while the other has a max value of 30, indicating that data collection might not have occurred in the same month for both of these variables.*\n",
    "\n",
    "3. Did your investigation give rise to further questions that you would like to explore or ask the Waze team about?\n",
    "\n",
    "> *Yes. I'd want to ask the Waze data team to confirm that the monthly variables were collected during the same month, given the fact that some have max values of 30 days while others have 31 days. I'd also want to learn why so many long-time users suddenly started using the app so much in just the last month. Was there anything that changed in the last month that might prompt this kind of behavior?*\n",
    "\n",
    "4. What percentage of users churned and what percentage were retained?\n",
    "\n",
    "> *Less than 18% of users churned, and \\~82% were retained.*\n",
    "\n",
    "5. What factors correlated with user churn? How?\n",
    "\n",
    "> *Distance driven per driving day had a positive correlation with user churn. The farther a user drove on each driving day, the more likely they were to churn. On the other hand, number of driving days had a negative correlation with churn. Users who drove more days of the last month were less likely to churn.*\n",
    "\n",
    "6. Did newer uses have greater representation in this dataset than users with longer tenure? How do you know?\n",
    "\n",
    "> *No. Users of all tenures from brand new to \\~10 years were relatively evenly represented in the data. This is borne out by the histogram for `n_days_after_onboarding`, which reveals a uniform distribution for this variable.*"
   ]
  },
  {
   "cell_type": "markdown",
   "id": "ba986b18",
   "metadata": {
    "papermill": {
     "duration": 0.033581,
     "end_time": "2025-05-26T04:28:08.299187",
     "exception": false,
     "start_time": "2025-05-26T04:28:08.265606",
     "status": "completed"
    },
    "tags": []
   },
   "source": [
    "**Congratulations!** You've completed this lab. However, you may not notice a green check mark next to this item on Coursera's platform. Please continue your progress regardless of the check mark. Just click on the \"save\" icon at the top of this notebook to ensure your work has been logged."
   ]
  }
 ],
 "metadata": {
  "colab": {
   "provenance": [
    {
     "file_id": "1DQhamPzI3QON4eTBzHHk4F0UnN9eILCd",
     "timestamp": 1671052108573
    },
    {
     "file_id": "1y_9vAHPuwnA8Kmbw8rzKTHoWxLUcyJM-",
     "timestamp": 1668985233529
    }
   ],
   "toc_visible": true
  },
  "kaggle": {
   "accelerator": "none",
   "dataSources": [
    {
     "datasetId": 7514820,
     "sourceId": 11952986,
     "sourceType": "datasetVersion"
    }
   ],
   "dockerImageVersionId": 31040,
   "isGpuEnabled": false,
   "isInternetEnabled": true,
   "language": "python",
   "sourceType": "notebook"
  },
  "kernelspec": {
   "display_name": "Python 3",
   "language": "python",
   "name": "python3"
  },
  "language_info": {
   "codemirror_mode": {
    "name": "ipython",
    "version": 3
   },
   "file_extension": ".py",
   "mimetype": "text/x-python",
   "name": "python",
   "nbconvert_exporter": "python",
   "pygments_lexer": "ipython3",
   "version": "3.11.11"
  },
  "papermill": {
   "default_parameters": {},
   "duration": 22.836529,
   "end_time": "2025-05-26T04:28:09.051849",
   "environment_variables": {},
   "exception": null,
   "input_path": "__notebook__.ipynb",
   "output_path": "__notebook__.ipynb",
   "parameters": {},
   "start_time": "2025-05-26T04:27:46.215320",
   "version": "2.6.0"
  }
 },
 "nbformat": 4,
 "nbformat_minor": 5
}
